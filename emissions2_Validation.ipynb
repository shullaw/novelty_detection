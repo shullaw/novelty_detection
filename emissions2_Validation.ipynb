{
 "cells": [
  {
   "cell_type": "code",
   "execution_count": null,
   "metadata": {},
   "outputs": [],
   "source": [
    "## author: Andrew (Jake) Shullaw 8/13/2021"
   ]
  },
  {
   "cell_type": "markdown",
   "metadata": {},
   "source": [
    "## Validation(ish) Set\r\n",
    "-   In this notebook, we will somewhat validate our models against a validation set.  It is comprised of both real and fake data.  The problem is that we do not have a confirmation on which files are real and fake or if the real ones would be approved.  *C'est la vie*.\r\n",
    "-   Either way, the purpose of this file is to apply the same data transformations to the validation set as we did the train and test sets.\r\n",
    "- To save some time on this 60,000 report data set, I've saved the file once I parsed it so that you do not have to :D"
   ]
  },
  {
   "cell_type": "code",
   "execution_count": 2,
   "metadata": {},
   "outputs": [],
   "source": [
    "# if you have the validation csv, do not run this block of code\r\n",
    "\r\n",
    "# import pathlib\r\n",
    "# import json\r\n",
    "# import pandas\r\n",
    "# import numpy as np\r\n",
    "\r\n",
    "# path = pathlib.Path.home()\r\n",
    "# path = path.joinpath('Documents','CGI','CAER','jupyter','jsons_with_comments')\r\n",
    "# data = path.glob('*')\r\n",
    "# data_list = [x for x in data if x.suffix == '.json']"
   ]
  },
  {
   "cell_type": "code",
   "execution_count": 4,
   "metadata": {},
   "outputs": [],
   "source": [
    "# if you have the validation csv, do not run this block of code\r\n",
    "\r\n",
    "# jsons = path.glob('*.json')\r\n",
    "# jsons_list = [str(x) for x in jsons if x.is_file()]\r\n",
    "# e_list = []\r\n",
    "# for file in jsons_list:\r\n",
    "#     with open(file, 'r', encoding='utf-8') as json_file:\r\n",
    "#         i = json.load(json_file)['id']\r\n",
    "#     with open(file, 'r', encoding='utf-8') as json_file:\r\n",
    "#         e_table = json.load(json_file)['emissions']\r\n",
    "#         for e in e_table:         \r\n",
    "#             e_list.append(e)\r\n",
    "#             e_list.append(i)"
   ]
  },
  {
   "cell_type": "code",
   "execution_count": 5,
   "metadata": {},
   "outputs": [],
   "source": [
    "# if you have the validation csv, do not run this block of code\r\n",
    "\r\n",
    "# df = pandas.DataFrame(data=e_list[::2])\r\n",
    "# df.rename(columns={'id':'eid'}, inplace=True)\r\n",
    "# df.drop('_row',axis=1,inplace=True)\r\n",
    "# df.drop('sheetName',axis=1,inplace=True)\r\n",
    "# df.insert(0,'id',e_list[1::2])  "
   ]
  },
  {
   "cell_type": "code",
   "execution_count": 208,
   "metadata": {},
   "outputs": [],
   "source": [
    "# if you have the validation csv, do not run this block of code\r\n",
    "\r\n",
    "\r\n",
    "# df.to_csv('jsonswithcomments_EMISSIONS_DATAFRAME.csv')"
   ]
  },
  {
   "cell_type": "code",
   "execution_count": 2,
   "metadata": {},
   "outputs": [],
   "source": [
    "import pandas\r\n",
    "\r\n",
    "# run if you have validation csv\r\n",
    "\r\n",
    "df = pandas.read_csv('jsonswithcomments_EMISSIONS_DATAFRAME.csv')  # validation csv\r\n",
    "df.drop('Unnamed: 0', axis=1, inplace=True)"
   ]
  },
  {
   "cell_type": "markdown",
   "metadata": {},
   "source": [
    "Clean validation"
   ]
  },
  {
   "cell_type": "code",
   "execution_count": 3,
   "metadata": {},
   "outputs": [
    {
     "name": "stdout",
     "output_type": "stream",
     "text": [
      "['overallControlPercent', 'emissionsFactorFormula', 'calculationComment']\n"
     ]
    }
   ],
   "source": [
    "import numpy as np\r\n",
    "\r\n",
    "description = df.describe(include='all')           #\r\n",
    "nonzero_cols = [d for d in description if description[d]['count'] > 0]\r\n",
    "df = df[nonzero_cols]\r\n",
    "df\r\n",
    "def type_convert(df):\r\n",
    "    df['id'] = df['id'].astype('string')\r\n",
    "    df['eid'] = df['eid'].astype('string')\r\n",
    "    df['displayName'] = df['displayName'].astype('category')\r\n",
    "    df['pollutantCode'] = df['pollutantCode'].astype('category')\r\n",
    "    df['overallControlPercent'] = df['overallControlPercent'].astype('float')\r\n",
    "    df['totalEmissions'] = df['totalEmissions'].astype('float')\r\n",
    "    df['emissionsUomCode'] = df['emissionsUomCode'].astype('category')\r\n",
    "    df['emissionsFactor'] = df['emissionsFactor'].astype('float')\r\n",
    "    df['emissionsFactorFormula'] = df['emissionsFactorFormula'].astype('string')\r\n",
    "    df['emissionsFactorText'] = df['emissionsFactorText'].astype('string')\r\n",
    "    df['emissionsCalcMethodCode'] = df['emissionsCalcMethodCode'].astype('category')\r\n",
    "    df['comments'] = df['comments'].astype('string')\r\n",
    "    df['calculationComment'] = df['calculationComment'].astype('string')\r\n",
    "    df['emissionsNumeratorUom'] = df['emissionsNumeratorUom'].astype('category')\r\n",
    "    df['emissionsDenominatorUom'] = df['emissionsDenominatorUom'].astype('category')\r\n",
    "    df['calculatedEmissionsTons'] = df['calculatedEmissionsTons'].astype('float')\r\n",
    "    return df\r\n",
    "df = type_convert(df)\r\n",
    "df.dtypes\r\n",
    "df.fillna(value=np.nan, inplace=True)  # replace all NoneType with Nan\r\n",
    "df.dropna(axis=0, how='all', inplace=True) # drop empty/nan columns/rows\r\n",
    "df.dropna(axis=1, how='all', inplace=True) # drop empty/nan columns/rows\r\n",
    "df.replace(r'^\\s*$', np.nan, regex=True, inplace=True)   # replace all empty cells with NaN value\r\n",
    "df\r\n",
    "def convert_compounds(df):\r\n",
    "    names = ['Nitrogen', 'Carbon', 'Volatile Organic Compounds', 'Sulfur', 'Filt + Cond', 'Filterable',\r\n",
    "            'Ammonia', 'Condensible', 'Lead', 'Styrene', 'Ether', 'Mercury', 'Xylenes', 'Cumene', 'Tetrachloroethylene',\r\n",
    "            'Formaldehyde', 'Methanol', 'Acetal']\r\n",
    "    for n in names:\r\n",
    "        df.displayName = df.displayName.str.replace(r'.+'+n+'.+', n)\r\n",
    "        if n=='Filt + Cond':\r\n",
    "            df.displayName = df.displayName.str.replace(r'.+' + \"Filt \\+ Cond\" + '.+', n)\r\n",
    "        if n=='Volatile Organic Compounds':\r\n",
    "            df.displayName = df.displayName.str.replace(r'.+'+n+'.+', 'VOC')\r\n",
    "    names[2] = 'VOC'\r\n",
    "    return df\r\n",
    "df = convert_compounds(df)\r\n",
    "df.displayName.value_counts()\r\n",
    "total = len(df)\r\n",
    "nan_columns = [d for d in df if df[d].isna().sum()/total > .9]\r\n",
    "# new_df.drop(nan_columns, axis=1, inplace=True)\r\n",
    "print(nan_columns)\r\n",
    "# new_df.describe(include='all')\r\n",
    "nan_ratios = {df[d].isna().sum()/total:d for d in df}\r\n",
    "nan_ratios\r\n",
    "df.drop(['reportingPeriodId','overallControlPercent','emissionsFactorFormula'], axis=1, inplace=True)\r\n",
    "# rewriting function (removing dropped columns)\r\n",
    "def convert(edf : pandas.DataFrame): \r\n",
    "    edf['id'] = edf['id'].astype('string')\r\n",
    "    edf['eid'] = edf['eid'].astype('string')\r\n",
    "    edf['displayName'] = edf['displayName'].astype('category')\r\n",
    "    edf['emissionsFactor'] = edf['emissionsFactor'].astype('float')\r\n",
    "    edf['emissionsFactorText'] = edf['emissionsFactorText'].astype('string')\r\n",
    "    edf['emissionsCalcMethodCode'] = edf['emissionsCalcMethodCode'].astype('category')\r\n",
    "    edf['comments'] = edf['comments'].astype('string')\r\n",
    "    edf['calculationComment'] = edf['calculationComment'].astype('string')\r\n",
    "    edf['calculatedEmissionsTons'] = edf['calculatedEmissionsTons'].astype('float')\r\n",
    "    return edf\r\n",
    "edf = convert(df)\r\n",
    "edf.drop('pollutantCode', axis=1, inplace=True)\r\n",
    "edf.comments = edf.comments.str.replace(r'Comment.+', 'None')  #replacing all \" Comment from xxxx: \"\r\n",
    "description = edf.describe(include='all')\r\n",
    "description.loc['type'] = edf.dtypes\r\n",
    "edf.comments.fillna(value=\"None\", inplace=True)\r\n",
    "edf = convert(edf)\r\n",
    "description\r\n",
    "edf.drop(['emissionsUomCode','emissionsNumeratorUom', 'emissionsDenominatorUom', 'totalEmissions'], axis=1, inplace=True)"
   ]
  },
  {
   "cell_type": "code",
   "execution_count": 4,
   "metadata": {},
   "outputs": [
    {
     "data": {
      "text/plain": "id                           string\neid                          string\ndisplayName                category\ntotalManualEntry               bool\nemissionsFactor             float64\nemissionsFactorText          string\nemissionsCalcMethodCode    category\ncomments                     string\ncalculationComment           string\ncalculatedEmissionsTons     float64\ndtype: object"
     },
     "execution_count": 4,
     "metadata": {},
     "output_type": "execute_result"
    }
   ],
   "source": [
    "edf.dtypes"
   ]
  },
  {
   "cell_type": "markdown",
   "metadata": {},
   "source": [
    "Encode validation"
   ]
  },
  {
   "cell_type": "code",
   "execution_count": 6,
   "metadata": {},
   "outputs": [
    {
     "data": {
      "text/html": "<div>\n<style scoped>\n    .dataframe tbody tr th:only-of-type {\n        vertical-align: middle;\n    }\n\n    .dataframe tbody tr th {\n        vertical-align: top;\n    }\n\n    .dataframe thead th {\n        text-align: right;\n    }\n</style>\n<table border=\"1\" class=\"dataframe\">\n  <thead>\n    <tr style=\"text-align: right;\">\n      <th></th>\n      <th>id</th>\n      <th>eid</th>\n      <th>totalManualEntry</th>\n      <th>emissionsFactor</th>\n      <th>emissionsFactorText</th>\n      <th>comments</th>\n      <th>calculationComment</th>\n      <th>calculatedEmissionsTons</th>\n      <th>displayName_001-001-Annual(1,1,2,2-Tetrachloroethane)</th>\n      <th>displayName_001-001-Annual(2,2,4-Trimethylpentane)</th>\n      <th>...</th>\n      <th>emissionsCalcMethodCode_24</th>\n      <th>emissionsCalcMethodCode_28</th>\n      <th>emissionsCalcMethodCode_29</th>\n      <th>emissionsCalcMethodCode_30</th>\n      <th>emissionsCalcMethodCode_31</th>\n      <th>emissionsCalcMethodCode_32</th>\n      <th>emissionsCalcMethodCode_33</th>\n      <th>emissionsCalcMethodCode_40</th>\n      <th>emissionsCalcMethodCode_41</th>\n      <th>emissionsCalcMethodCode_42</th>\n    </tr>\n  </thead>\n  <tbody>\n    <tr>\n      <th>0</th>\n      <td>1001</td>\n      <td>67351</td>\n      <td>False</td>\n      <td>0.0001</td>\n      <td>Emission Factor for PM Filt 4.63E-05, PM10 Fil...</td>\n      <td>Emission factor per AP-42 Section 13.2.4, Aggr...</td>\n      <td>&lt;NA&gt;</td>\n      <td>0.0053</td>\n      <td>0</td>\n      <td>0</td>\n      <td>...</td>\n      <td>0</td>\n      <td>0</td>\n      <td>0</td>\n      <td>0</td>\n      <td>0</td>\n      <td>0</td>\n      <td>0</td>\n      <td>0</td>\n      <td>0</td>\n      <td>0</td>\n    </tr>\n    <tr>\n      <th>1</th>\n      <td>1001</td>\n      <td>67352</td>\n      <td>False</td>\n      <td>0.0010</td>\n      <td>(usage * factor/2000)*(1-control efficiency/100)</td>\n      <td>None</td>\n      <td>&lt;NA&gt;</td>\n      <td>8.7100</td>\n      <td>0</td>\n      <td>0</td>\n      <td>...</td>\n      <td>0</td>\n      <td>0</td>\n      <td>0</td>\n      <td>0</td>\n      <td>0</td>\n      <td>0</td>\n      <td>1</td>\n      <td>0</td>\n      <td>0</td>\n      <td>0</td>\n    </tr>\n    <tr>\n      <th>2</th>\n      <td>1001</td>\n      <td>67354</td>\n      <td>False</td>\n      <td>NaN</td>\n      <td>&lt;NA&gt;</td>\n      <td>None</td>\n      <td>&lt;NA&gt;</td>\n      <td>328.5000</td>\n      <td>0</td>\n      <td>0</td>\n      <td>...</td>\n      <td>0</td>\n      <td>0</td>\n      <td>0</td>\n      <td>0</td>\n      <td>0</td>\n      <td>0</td>\n      <td>0</td>\n      <td>0</td>\n      <td>0</td>\n      <td>0</td>\n    </tr>\n    <tr>\n      <th>3</th>\n      <td>1001</td>\n      <td>67353</td>\n      <td>False</td>\n      <td>NaN</td>\n      <td>&lt;NA&gt;</td>\n      <td>None</td>\n      <td>&lt;NA&gt;</td>\n      <td>2050.3000</td>\n      <td>0</td>\n      <td>0</td>\n      <td>...</td>\n      <td>0</td>\n      <td>0</td>\n      <td>0</td>\n      <td>0</td>\n      <td>0</td>\n      <td>0</td>\n      <td>0</td>\n      <td>0</td>\n      <td>0</td>\n      <td>0</td>\n    </tr>\n    <tr>\n      <th>4</th>\n      <td>1001</td>\n      <td>67357</td>\n      <td>False</td>\n      <td>NaN</td>\n      <td>&lt;NA&gt;</td>\n      <td>None</td>\n      <td>&lt;NA&gt;</td>\n      <td>2.4500</td>\n      <td>0</td>\n      <td>0</td>\n      <td>...</td>\n      <td>0</td>\n      <td>0</td>\n      <td>0</td>\n      <td>0</td>\n      <td>0</td>\n      <td>0</td>\n      <td>0</td>\n      <td>0</td>\n      <td>0</td>\n      <td>0</td>\n    </tr>\n    <tr>\n      <th>...</th>\n      <td>...</td>\n      <td>...</td>\n      <td>...</td>\n      <td>...</td>\n      <td>...</td>\n      <td>...</td>\n      <td>...</td>\n      <td>...</td>\n      <td>...</td>\n      <td>...</td>\n      <td>...</td>\n      <td>...</td>\n      <td>...</td>\n      <td>...</td>\n      <td>...</td>\n      <td>...</td>\n      <td>...</td>\n      <td>...</td>\n      <td>...</td>\n      <td>...</td>\n      <td>...</td>\n    </tr>\n    <tr>\n      <th>59155</th>\n      <td>999</td>\n      <td>67327</td>\n      <td>False</td>\n      <td>5.7000</td>\n      <td>&lt;NA&gt;</td>\n      <td>None</td>\n      <td>&lt;NA&gt;</td>\n      <td>0.0500</td>\n      <td>0</td>\n      <td>0</td>\n      <td>...</td>\n      <td>0</td>\n      <td>0</td>\n      <td>0</td>\n      <td>0</td>\n      <td>0</td>\n      <td>0</td>\n      <td>0</td>\n      <td>0</td>\n      <td>0</td>\n      <td>0</td>\n    </tr>\n    <tr>\n      <th>59156</th>\n      <td>999</td>\n      <td>67331</td>\n      <td>False</td>\n      <td>1.9000</td>\n      <td>&lt;NA&gt;</td>\n      <td>None</td>\n      <td>&lt;NA&gt;</td>\n      <td>0.0200</td>\n      <td>0</td>\n      <td>0</td>\n      <td>...</td>\n      <td>0</td>\n      <td>0</td>\n      <td>0</td>\n      <td>0</td>\n      <td>0</td>\n      <td>0</td>\n      <td>0</td>\n      <td>0</td>\n      <td>0</td>\n      <td>0</td>\n    </tr>\n    <tr>\n      <th>59157</th>\n      <td>999</td>\n      <td>67325</td>\n      <td>False</td>\n      <td>7.6000</td>\n      <td>&lt;NA&gt;</td>\n      <td>None</td>\n      <td>&lt;NA&gt;</td>\n      <td>0.0700</td>\n      <td>0</td>\n      <td>0</td>\n      <td>...</td>\n      <td>0</td>\n      <td>0</td>\n      <td>0</td>\n      <td>0</td>\n      <td>0</td>\n      <td>0</td>\n      <td>0</td>\n      <td>0</td>\n      <td>0</td>\n      <td>0</td>\n    </tr>\n    <tr>\n      <th>59158</th>\n      <td>999</td>\n      <td>67326</td>\n      <td>False</td>\n      <td>0.6000</td>\n      <td>&lt;NA&gt;</td>\n      <td>None</td>\n      <td>&lt;NA&gt;</td>\n      <td>0.0100</td>\n      <td>0</td>\n      <td>0</td>\n      <td>...</td>\n      <td>0</td>\n      <td>0</td>\n      <td>0</td>\n      <td>0</td>\n      <td>0</td>\n      <td>0</td>\n      <td>0</td>\n      <td>0</td>\n      <td>0</td>\n      <td>0</td>\n    </tr>\n    <tr>\n      <th>59159</th>\n      <td>999</td>\n      <td>67330</td>\n      <td>False</td>\n      <td>5.5000</td>\n      <td>&lt;NA&gt;</td>\n      <td>None</td>\n      <td>&lt;NA&gt;</td>\n      <td>0.0500</td>\n      <td>0</td>\n      <td>0</td>\n      <td>...</td>\n      <td>0</td>\n      <td>0</td>\n      <td>0</td>\n      <td>0</td>\n      <td>0</td>\n      <td>0</td>\n      <td>0</td>\n      <td>0</td>\n      <td>0</td>\n      <td>0</td>\n    </tr>\n  </tbody>\n</table>\n<p>59160 rows × 1040 columns</p>\n</div>",
      "text/plain": "         id    eid  totalManualEntry  emissionsFactor  \\\n0      1001  67351             False           0.0001   \n1      1001  67352             False           0.0010   \n2      1001  67354             False              NaN   \n3      1001  67353             False              NaN   \n4      1001  67357             False              NaN   \n...     ...    ...               ...              ...   \n59155   999  67327             False           5.7000   \n59156   999  67331             False           1.9000   \n59157   999  67325             False           7.6000   \n59158   999  67326             False           0.6000   \n59159   999  67330             False           5.5000   \n\n                                     emissionsFactorText  \\\n0      Emission Factor for PM Filt 4.63E-05, PM10 Fil...   \n1       (usage * factor/2000)*(1-control efficiency/100)   \n2                                                   <NA>   \n3                                                   <NA>   \n4                                                   <NA>   \n...                                                  ...   \n59155                                               <NA>   \n59156                                               <NA>   \n59157                                               <NA>   \n59158                                               <NA>   \n59159                                               <NA>   \n\n                                                comments calculationComment  \\\n0      Emission factor per AP-42 Section 13.2.4, Aggr...               <NA>   \n1                                                   None               <NA>   \n2                                                   None               <NA>   \n3                                                   None               <NA>   \n4                                                   None               <NA>   \n...                                                  ...                ...   \n59155                                               None               <NA>   \n59156                                               None               <NA>   \n59157                                               None               <NA>   \n59158                                               None               <NA>   \n59159                                               None               <NA>   \n\n       calculatedEmissionsTons  \\\n0                       0.0053   \n1                       8.7100   \n2                     328.5000   \n3                    2050.3000   \n4                       2.4500   \n...                        ...   \n59155                   0.0500   \n59156                   0.0200   \n59157                   0.0700   \n59158                   0.0100   \n59159                   0.0500   \n\n       displayName_001-001-Annual(1,1,2,2-Tetrachloroethane)  \\\n0                                                      0       \n1                                                      0       \n2                                                      0       \n3                                                      0       \n4                                                      0       \n...                                                  ...       \n59155                                                  0       \n59156                                                  0       \n59157                                                  0       \n59158                                                  0       \n59159                                                  0       \n\n       displayName_001-001-Annual(2,2,4-Trimethylpentane)  ...  \\\n0                                                      0   ...   \n1                                                      0   ...   \n2                                                      0   ...   \n3                                                      0   ...   \n4                                                      0   ...   \n...                                                  ...   ...   \n59155                                                  0   ...   \n59156                                                  0   ...   \n59157                                                  0   ...   \n59158                                                  0   ...   \n59159                                                  0   ...   \n\n       emissionsCalcMethodCode_24  emissionsCalcMethodCode_28  \\\n0                               0                           0   \n1                               0                           0   \n2                               0                           0   \n3                               0                           0   \n4                               0                           0   \n...                           ...                         ...   \n59155                           0                           0   \n59156                           0                           0   \n59157                           0                           0   \n59158                           0                           0   \n59159                           0                           0   \n\n       emissionsCalcMethodCode_29  emissionsCalcMethodCode_30  \\\n0                               0                           0   \n1                               0                           0   \n2                               0                           0   \n3                               0                           0   \n4                               0                           0   \n...                           ...                         ...   \n59155                           0                           0   \n59156                           0                           0   \n59157                           0                           0   \n59158                           0                           0   \n59159                           0                           0   \n\n       emissionsCalcMethodCode_31  emissionsCalcMethodCode_32  \\\n0                               0                           0   \n1                               0                           0   \n2                               0                           0   \n3                               0                           0   \n4                               0                           0   \n...                           ...                         ...   \n59155                           0                           0   \n59156                           0                           0   \n59157                           0                           0   \n59158                           0                           0   \n59159                           0                           0   \n\n       emissionsCalcMethodCode_33  emissionsCalcMethodCode_40  \\\n0                               0                           0   \n1                               1                           0   \n2                               0                           0   \n3                               0                           0   \n4                               0                           0   \n...                           ...                         ...   \n59155                           0                           0   \n59156                           0                           0   \n59157                           0                           0   \n59158                           0                           0   \n59159                           0                           0   \n\n       emissionsCalcMethodCode_41  emissionsCalcMethodCode_42  \n0                               0                           0  \n1                               0                           0  \n2                               0                           0  \n3                               0                           0  \n4                               0                           0  \n...                           ...                         ...  \n59155                           0                           0  \n59156                           0                           0  \n59157                           0                           0  \n59158                           0                           0  \n59159                           0                           0  \n\n[59160 rows x 1040 columns]"
     },
     "execution_count": 6,
     "metadata": {},
     "output_type": "execute_result"
    }
   ],
   "source": [
    "from sklearn.preprocessing import OneHotEncoder\r\n",
    "\r\n",
    "encoder = OneHotEncoder()\r\n",
    "X = edf\r\n",
    "X_cats = X.select_dtypes('category')\r\n",
    "encoder.fit(X_cats)\r\n",
    "codes = encoder.transform(X_cats).toarray()\r\n",
    "feature_names = encoder.get_feature_names(['displayName', 'emissionsCalcMethodCode'])\r\n",
    "\r\n",
    "X = pandas.concat([edf.select_dtypes(exclude='category'),\r\n",
    "                   pandas.DataFrame(codes, columns=feature_names).astype(int)], axis=1)\r\n",
    "X"
   ]
  },
  {
   "cell_type": "code",
   "execution_count": 7,
   "metadata": {},
   "outputs": [
    {
     "data": {
      "text/html": "<div>\n<style scoped>\n    .dataframe tbody tr th:only-of-type {\n        vertical-align: middle;\n    }\n\n    .dataframe tbody tr th {\n        vertical-align: top;\n    }\n\n    .dataframe thead th {\n        text-align: right;\n    }\n</style>\n<table border=\"1\" class=\"dataframe\">\n  <thead>\n    <tr style=\"text-align: right;\">\n      <th></th>\n      <th>id</th>\n      <th>eid</th>\n      <th>totalManualEntry</th>\n      <th>emissionsFactor</th>\n      <th>calculatedEmissionsTons</th>\n      <th>displayName_Acetal</th>\n      <th>displayName_Ammonia</th>\n      <th>displayName_Carbon</th>\n      <th>displayName_Condensible</th>\n      <th>displayName_Cumene</th>\n      <th>...</th>\n      <th>emissionsCalcMethodCode_31</th>\n      <th>emissionsCalcMethodCode_32</th>\n      <th>emissionsCalcMethodCode_33</th>\n      <th>emissionsCalcMethodCode_4</th>\n      <th>emissionsCalcMethodCode_41</th>\n      <th>emissionsCalcMethodCode_42</th>\n      <th>emissionsCalcMethodCode_5</th>\n      <th>emissionsCalcMethodCode_7</th>\n      <th>emissionsCalcMethodCode_8</th>\n      <th>emissionsCalcMethodCode_9</th>\n    </tr>\n  </thead>\n  <tbody>\n    <tr>\n      <th>0</th>\n      <td>1001</td>\n      <td>67351</td>\n      <td>False</td>\n      <td>0.0001</td>\n      <td>0.0053</td>\n      <td>0</td>\n      <td>0</td>\n      <td>0</td>\n      <td>0</td>\n      <td>0</td>\n      <td>...</td>\n      <td>0</td>\n      <td>0</td>\n      <td>0</td>\n      <td>0</td>\n      <td>0</td>\n      <td>0</td>\n      <td>0</td>\n      <td>0</td>\n      <td>1</td>\n      <td>0</td>\n    </tr>\n    <tr>\n      <th>1</th>\n      <td>1001</td>\n      <td>67352</td>\n      <td>False</td>\n      <td>0.0010</td>\n      <td>8.7100</td>\n      <td>0</td>\n      <td>0</td>\n      <td>0</td>\n      <td>0</td>\n      <td>0</td>\n      <td>...</td>\n      <td>0</td>\n      <td>0</td>\n      <td>1</td>\n      <td>0</td>\n      <td>0</td>\n      <td>0</td>\n      <td>0</td>\n      <td>0</td>\n      <td>0</td>\n      <td>0</td>\n    </tr>\n    <tr>\n      <th>2</th>\n      <td>1001</td>\n      <td>67354</td>\n      <td>False</td>\n      <td>NaN</td>\n      <td>328.5000</td>\n      <td>0</td>\n      <td>0</td>\n      <td>0</td>\n      <td>0</td>\n      <td>0</td>\n      <td>...</td>\n      <td>0</td>\n      <td>0</td>\n      <td>0</td>\n      <td>0</td>\n      <td>0</td>\n      <td>0</td>\n      <td>0</td>\n      <td>0</td>\n      <td>0</td>\n      <td>0</td>\n    </tr>\n    <tr>\n      <th>3</th>\n      <td>1001</td>\n      <td>67353</td>\n      <td>False</td>\n      <td>NaN</td>\n      <td>2050.3000</td>\n      <td>0</td>\n      <td>0</td>\n      <td>0</td>\n      <td>0</td>\n      <td>0</td>\n      <td>...</td>\n      <td>0</td>\n      <td>0</td>\n      <td>0</td>\n      <td>0</td>\n      <td>0</td>\n      <td>0</td>\n      <td>0</td>\n      <td>0</td>\n      <td>0</td>\n      <td>0</td>\n    </tr>\n    <tr>\n      <th>4</th>\n      <td>1001</td>\n      <td>67357</td>\n      <td>False</td>\n      <td>NaN</td>\n      <td>2.4500</td>\n      <td>0</td>\n      <td>0</td>\n      <td>1</td>\n      <td>0</td>\n      <td>0</td>\n      <td>...</td>\n      <td>0</td>\n      <td>0</td>\n      <td>0</td>\n      <td>1</td>\n      <td>0</td>\n      <td>0</td>\n      <td>0</td>\n      <td>0</td>\n      <td>0</td>\n      <td>0</td>\n    </tr>\n    <tr>\n      <th>...</th>\n      <td>...</td>\n      <td>...</td>\n      <td>...</td>\n      <td>...</td>\n      <td>...</td>\n      <td>...</td>\n      <td>...</td>\n      <td>...</td>\n      <td>...</td>\n      <td>...</td>\n      <td>...</td>\n      <td>...</td>\n      <td>...</td>\n      <td>...</td>\n      <td>...</td>\n      <td>...</td>\n      <td>...</td>\n      <td>...</td>\n      <td>...</td>\n      <td>...</td>\n      <td>...</td>\n    </tr>\n    <tr>\n      <th>59155</th>\n      <td>999</td>\n      <td>67327</td>\n      <td>False</td>\n      <td>5.7000</td>\n      <td>0.0500</td>\n      <td>0</td>\n      <td>0</td>\n      <td>0</td>\n      <td>1</td>\n      <td>0</td>\n      <td>...</td>\n      <td>0</td>\n      <td>0</td>\n      <td>0</td>\n      <td>0</td>\n      <td>0</td>\n      <td>0</td>\n      <td>0</td>\n      <td>0</td>\n      <td>0</td>\n      <td>1</td>\n    </tr>\n    <tr>\n      <th>59156</th>\n      <td>999</td>\n      <td>67331</td>\n      <td>False</td>\n      <td>1.9000</td>\n      <td>0.0200</td>\n      <td>0</td>\n      <td>0</td>\n      <td>0</td>\n      <td>0</td>\n      <td>0</td>\n      <td>...</td>\n      <td>0</td>\n      <td>0</td>\n      <td>0</td>\n      <td>0</td>\n      <td>0</td>\n      <td>0</td>\n      <td>0</td>\n      <td>0</td>\n      <td>0</td>\n      <td>1</td>\n    </tr>\n    <tr>\n      <th>59157</th>\n      <td>999</td>\n      <td>67325</td>\n      <td>False</td>\n      <td>7.6000</td>\n      <td>0.0700</td>\n      <td>0</td>\n      <td>0</td>\n      <td>0</td>\n      <td>0</td>\n      <td>0</td>\n      <td>...</td>\n      <td>0</td>\n      <td>0</td>\n      <td>0</td>\n      <td>0</td>\n      <td>0</td>\n      <td>0</td>\n      <td>0</td>\n      <td>0</td>\n      <td>0</td>\n      <td>1</td>\n    </tr>\n    <tr>\n      <th>59158</th>\n      <td>999</td>\n      <td>67326</td>\n      <td>False</td>\n      <td>0.6000</td>\n      <td>0.0100</td>\n      <td>0</td>\n      <td>0</td>\n      <td>0</td>\n      <td>0</td>\n      <td>0</td>\n      <td>...</td>\n      <td>0</td>\n      <td>0</td>\n      <td>0</td>\n      <td>0</td>\n      <td>0</td>\n      <td>0</td>\n      <td>0</td>\n      <td>0</td>\n      <td>0</td>\n      <td>1</td>\n    </tr>\n    <tr>\n      <th>59159</th>\n      <td>999</td>\n      <td>67330</td>\n      <td>False</td>\n      <td>5.5000</td>\n      <td>0.0500</td>\n      <td>0</td>\n      <td>0</td>\n      <td>0</td>\n      <td>0</td>\n      <td>0</td>\n      <td>...</td>\n      <td>0</td>\n      <td>0</td>\n      <td>0</td>\n      <td>0</td>\n      <td>0</td>\n      <td>0</td>\n      <td>0</td>\n      <td>0</td>\n      <td>0</td>\n      <td>1</td>\n    </tr>\n  </tbody>\n</table>\n<p>59160 rows × 44 columns</p>\n</div>",
      "text/plain": "         id    eid  totalManualEntry  emissionsFactor  \\\n0      1001  67351             False           0.0001   \n1      1001  67352             False           0.0010   \n2      1001  67354             False              NaN   \n3      1001  67353             False              NaN   \n4      1001  67357             False              NaN   \n...     ...    ...               ...              ...   \n59155   999  67327             False           5.7000   \n59156   999  67331             False           1.9000   \n59157   999  67325             False           7.6000   \n59158   999  67326             False           0.6000   \n59159   999  67330             False           5.5000   \n\n       calculatedEmissionsTons  displayName_Acetal  displayName_Ammonia  \\\n0                       0.0053                   0                    0   \n1                       8.7100                   0                    0   \n2                     328.5000                   0                    0   \n3                    2050.3000                   0                    0   \n4                       2.4500                   0                    0   \n...                        ...                 ...                  ...   \n59155                   0.0500                   0                    0   \n59156                   0.0200                   0                    0   \n59157                   0.0700                   0                    0   \n59158                   0.0100                   0                    0   \n59159                   0.0500                   0                    0   \n\n       displayName_Carbon  displayName_Condensible  displayName_Cumene  ...  \\\n0                       0                        0                   0  ...   \n1                       0                        0                   0  ...   \n2                       0                        0                   0  ...   \n3                       0                        0                   0  ...   \n4                       1                        0                   0  ...   \n...                   ...                      ...                 ...  ...   \n59155                   0                        1                   0  ...   \n59156                   0                        0                   0  ...   \n59157                   0                        0                   0  ...   \n59158                   0                        0                   0  ...   \n59159                   0                        0                   0  ...   \n\n       emissionsCalcMethodCode_31  emissionsCalcMethodCode_32  \\\n0                               0                           0   \n1                               0                           0   \n2                               0                           0   \n3                               0                           0   \n4                               0                           0   \n...                           ...                         ...   \n59155                           0                           0   \n59156                           0                           0   \n59157                           0                           0   \n59158                           0                           0   \n59159                           0                           0   \n\n       emissionsCalcMethodCode_33  emissionsCalcMethodCode_4  \\\n0                               0                          0   \n1                               1                          0   \n2                               0                          0   \n3                               0                          0   \n4                               0                          1   \n...                           ...                        ...   \n59155                           0                          0   \n59156                           0                          0   \n59157                           0                          0   \n59158                           0                          0   \n59159                           0                          0   \n\n       emissionsCalcMethodCode_41  emissionsCalcMethodCode_42  \\\n0                               0                           0   \n1                               0                           0   \n2                               0                           0   \n3                               0                           0   \n4                               0                           0   \n...                           ...                         ...   \n59155                           0                           0   \n59156                           0                           0   \n59157                           0                           0   \n59158                           0                           0   \n59159                           0                           0   \n\n       emissionsCalcMethodCode_5  emissionsCalcMethodCode_7  \\\n0                              0                          0   \n1                              0                          0   \n2                              0                          0   \n3                              0                          0   \n4                              0                          0   \n...                          ...                        ...   \n59155                          0                          0   \n59156                          0                          0   \n59157                          0                          0   \n59158                          0                          0   \n59159                          0                          0   \n\n       emissionsCalcMethodCode_8  emissionsCalcMethodCode_9  \n0                              1                          0  \n1                              0                          0  \n2                              0                          0  \n3                              0                          0  \n4                              0                          0  \n...                          ...                        ...  \n59155                          0                          1  \n59156                          0                          1  \n59157                          0                          1  \n59158                          0                          1  \n59159                          0                          1  \n\n[59160 rows x 44 columns]"
     },
     "execution_count": 7,
     "metadata": {},
     "output_type": "execute_result"
    }
   ],
   "source": [
    "cols = ['id', 'eid', 'totalManualEntry', 'emissionsFactor',\r\n",
    "       'calculatedEmissionsTons', 'displayName_Acetal', 'displayName_Ammonia',\r\n",
    "       'displayName_Carbon', 'displayName_Condensible', 'displayName_Cumene',\r\n",
    "       'displayName_Ether', 'displayName_Filt + Cond',\r\n",
    "       'displayName_Filterable', 'displayName_Formaldehyde',\r\n",
    "       'displayName_Lead', 'displayName_Mercury', 'displayName_Methanol',\r\n",
    "       'displayName_Nitrogen', 'displayName_Styrene', 'displayName_Sulfur',\r\n",
    "       'displayName_Tetrachloroethylene',\r\n",
    "       'displayName_Volatile Organic Compounds', 'displayName_Xylenes',\r\n",
    "       'emissionsCalcMethodCode_1', 'emissionsCalcMethodCode_10',\r\n",
    "       'emissionsCalcMethodCode_11', 'emissionsCalcMethodCode_12',\r\n",
    "       'emissionsCalcMethodCode_13', 'emissionsCalcMethodCode_2',\r\n",
    "       'emissionsCalcMethodCode_24', 'emissionsCalcMethodCode_28',\r\n",
    "       'emissionsCalcMethodCode_29', 'emissionsCalcMethodCode_3',\r\n",
    "       'emissionsCalcMethodCode_30', 'emissionsCalcMethodCode_31',\r\n",
    "       'emissionsCalcMethodCode_32', 'emissionsCalcMethodCode_33',\r\n",
    "       'emissionsCalcMethodCode_4', 'emissionsCalcMethodCode_41',\r\n",
    "       'emissionsCalcMethodCode_42', 'emissionsCalcMethodCode_5',\r\n",
    "       'emissionsCalcMethodCode_7', 'emissionsCalcMethodCode_8',\r\n",
    "       'emissionsCalcMethodCode_9']\r\n",
    "X = X[cols]\r\n",
    "X"
   ]
  },
  {
   "cell_type": "code",
   "execution_count": 8,
   "metadata": {},
   "outputs": [
    {
     "data": {
      "text/plain": "id                                            0\neid                                           0\ntotalManualEntry                              0\nemissionsFactor                           19219\ncalculatedEmissionsTons                       2\ndisplayName_Acetal                            0\ndisplayName_Ammonia                           0\ndisplayName_Carbon                            0\ndisplayName_Condensible                       0\ndisplayName_Cumene                            0\ndisplayName_Ether                             0\ndisplayName_Filt + Cond                       0\ndisplayName_Filterable                        0\ndisplayName_Formaldehyde                      0\ndisplayName_Lead                              0\ndisplayName_Mercury                           0\ndisplayName_Methanol                          0\ndisplayName_Nitrogen                          0\ndisplayName_Styrene                           0\ndisplayName_Sulfur                            0\ndisplayName_Tetrachloroethylene               0\ndisplayName_Volatile Organic Compounds        0\ndisplayName_Xylenes                           0\nemissionsCalcMethodCode_1                     0\nemissionsCalcMethodCode_10                    0\nemissionsCalcMethodCode_11                    0\nemissionsCalcMethodCode_12                    0\nemissionsCalcMethodCode_13                    0\nemissionsCalcMethodCode_2                     0\nemissionsCalcMethodCode_24                    0\nemissionsCalcMethodCode_28                    0\nemissionsCalcMethodCode_29                    0\nemissionsCalcMethodCode_3                     0\nemissionsCalcMethodCode_30                    0\nemissionsCalcMethodCode_31                    0\nemissionsCalcMethodCode_32                    0\nemissionsCalcMethodCode_33                    0\nemissionsCalcMethodCode_4                     0\nemissionsCalcMethodCode_41                    0\nemissionsCalcMethodCode_42                    0\nemissionsCalcMethodCode_5                     0\nemissionsCalcMethodCode_7                     0\nemissionsCalcMethodCode_8                     0\nemissionsCalcMethodCode_9                     0\ndtype: int64"
     },
     "execution_count": 8,
     "metadata": {},
     "output_type": "execute_result"
    }
   ],
   "source": [
    "X.isna().sum()"
   ]
  },
  {
   "cell_type": "code",
   "execution_count": 9,
   "metadata": {},
   "outputs": [
    {
     "name": "stderr",
     "output_type": "stream",
     "text": [
      "C:\\Users\\ASHULLAW\\AppData\\Local\\Programs\\PythonCodingPack\\lib\\site-packages\\pandas\\core\\frame.py:4311: SettingWithCopyWarning: \n",
      "A value is trying to be set on a copy of a slice from a DataFrame\n",
      "\n",
      "See the caveats in the documentation: https://pandas.pydata.org/pandas-docs/stable/user_guide/indexing.html#returning-a-view-versus-a-copy\n",
      "  return super().fillna(\n"
     ]
    },
    {
     "data": {
      "text/plain": "id                                        0\neid                                       0\ntotalManualEntry                          0\nemissionsFactor                           0\ncalculatedEmissionsTons                   0\ndisplayName_Acetal                        0\ndisplayName_Ammonia                       0\ndisplayName_Carbon                        0\ndisplayName_Condensible                   0\ndisplayName_Cumene                        0\ndisplayName_Ether                         0\ndisplayName_Filt + Cond                   0\ndisplayName_Filterable                    0\ndisplayName_Formaldehyde                  0\ndisplayName_Lead                          0\ndisplayName_Mercury                       0\ndisplayName_Methanol                      0\ndisplayName_Nitrogen                      0\ndisplayName_Styrene                       0\ndisplayName_Sulfur                        0\ndisplayName_Tetrachloroethylene           0\ndisplayName_Volatile Organic Compounds    0\ndisplayName_Xylenes                       0\nemissionsCalcMethodCode_1                 0\nemissionsCalcMethodCode_10                0\nemissionsCalcMethodCode_11                0\nemissionsCalcMethodCode_12                0\nemissionsCalcMethodCode_13                0\nemissionsCalcMethodCode_2                 0\nemissionsCalcMethodCode_24                0\nemissionsCalcMethodCode_28                0\nemissionsCalcMethodCode_29                0\nemissionsCalcMethodCode_3                 0\nemissionsCalcMethodCode_30                0\nemissionsCalcMethodCode_31                0\nemissionsCalcMethodCode_32                0\nemissionsCalcMethodCode_33                0\nemissionsCalcMethodCode_4                 0\nemissionsCalcMethodCode_41                0\nemissionsCalcMethodCode_42                0\nemissionsCalcMethodCode_5                 0\nemissionsCalcMethodCode_7                 0\nemissionsCalcMethodCode_8                 0\nemissionsCalcMethodCode_9                 0\ndtype: int64"
     },
     "execution_count": 9,
     "metadata": {},
     "output_type": "execute_result"
    }
   ],
   "source": [
    "X.fillna(value=0, inplace=True)  # replace all NoneType with Nan\r\n",
    "X.isna().sum()"
   ]
  },
  {
   "cell_type": "code",
   "execution_count": 10,
   "metadata": {},
   "outputs": [
    {
     "data": {
      "text/html": "<div>\n<style scoped>\n    .dataframe tbody tr th:only-of-type {\n        vertical-align: middle;\n    }\n\n    .dataframe tbody tr th {\n        vertical-align: top;\n    }\n\n    .dataframe thead th {\n        text-align: right;\n    }\n</style>\n<table border=\"1\" class=\"dataframe\">\n  <thead>\n    <tr style=\"text-align: right;\">\n      <th></th>\n      <th>id</th>\n      <th>eid</th>\n      <th>totalManualEntry</th>\n      <th>emissionsFactor</th>\n      <th>calculatedEmissionsTons</th>\n      <th>displayName_Acetal</th>\n      <th>displayName_Ammonia</th>\n      <th>displayName_Carbon</th>\n      <th>displayName_Condensible</th>\n      <th>displayName_Cumene</th>\n      <th>...</th>\n      <th>emissionsCalcMethodCode_31</th>\n      <th>emissionsCalcMethodCode_32</th>\n      <th>emissionsCalcMethodCode_33</th>\n      <th>emissionsCalcMethodCode_4</th>\n      <th>emissionsCalcMethodCode_41</th>\n      <th>emissionsCalcMethodCode_42</th>\n      <th>emissionsCalcMethodCode_5</th>\n      <th>emissionsCalcMethodCode_7</th>\n      <th>emissionsCalcMethodCode_8</th>\n      <th>emissionsCalcMethodCode_9</th>\n    </tr>\n  </thead>\n  <tbody>\n    <tr>\n      <th>count</th>\n      <td>59160</td>\n      <td>59160</td>\n      <td>59160</td>\n      <td>59160.000000</td>\n      <td>5.916000e+04</td>\n      <td>59160.000000</td>\n      <td>59160.000000</td>\n      <td>59160.000000</td>\n      <td>59160.000000</td>\n      <td>59160.000000</td>\n      <td>...</td>\n      <td>59160.000000</td>\n      <td>59160.000000</td>\n      <td>59160.000000</td>\n      <td>59160.000000</td>\n      <td>59160.000000</td>\n      <td>59160.000000</td>\n      <td>59160.000000</td>\n      <td>59160.000000</td>\n      <td>59160.000000</td>\n      <td>59160.000000</td>\n    </tr>\n    <tr>\n      <th>unique</th>\n      <td>820</td>\n      <td>59160</td>\n      <td>2</td>\n      <td>NaN</td>\n      <td>NaN</td>\n      <td>NaN</td>\n      <td>NaN</td>\n      <td>NaN</td>\n      <td>NaN</td>\n      <td>NaN</td>\n      <td>...</td>\n      <td>NaN</td>\n      <td>NaN</td>\n      <td>NaN</td>\n      <td>NaN</td>\n      <td>NaN</td>\n      <td>NaN</td>\n      <td>NaN</td>\n      <td>NaN</td>\n      <td>NaN</td>\n      <td>NaN</td>\n    </tr>\n    <tr>\n      <th>top</th>\n      <td>3269</td>\n      <td>12547</td>\n      <td>False</td>\n      <td>NaN</td>\n      <td>NaN</td>\n      <td>NaN</td>\n      <td>NaN</td>\n      <td>NaN</td>\n      <td>NaN</td>\n      <td>NaN</td>\n      <td>...</td>\n      <td>NaN</td>\n      <td>NaN</td>\n      <td>NaN</td>\n      <td>NaN</td>\n      <td>NaN</td>\n      <td>NaN</td>\n      <td>NaN</td>\n      <td>NaN</td>\n      <td>NaN</td>\n      <td>NaN</td>\n    </tr>\n    <tr>\n      <th>freq</th>\n      <td>1605</td>\n      <td>1</td>\n      <td>58850</td>\n      <td>NaN</td>\n      <td>NaN</td>\n      <td>NaN</td>\n      <td>NaN</td>\n      <td>NaN</td>\n      <td>NaN</td>\n      <td>NaN</td>\n      <td>...</td>\n      <td>NaN</td>\n      <td>NaN</td>\n      <td>NaN</td>\n      <td>NaN</td>\n      <td>NaN</td>\n      <td>NaN</td>\n      <td>NaN</td>\n      <td>NaN</td>\n      <td>NaN</td>\n      <td>NaN</td>\n    </tr>\n    <tr>\n      <th>mean</th>\n      <td>NaN</td>\n      <td>NaN</td>\n      <td>NaN</td>\n      <td>338.420322</td>\n      <td>4.017511e+02</td>\n      <td>0.000794</td>\n      <td>0.015331</td>\n      <td>0.103854</td>\n      <td>0.037204</td>\n      <td>0.000270</td>\n      <td>...</td>\n      <td>0.000913</td>\n      <td>0.001572</td>\n      <td>0.001285</td>\n      <td>0.083249</td>\n      <td>0.004564</td>\n      <td>0.000051</td>\n      <td>0.008925</td>\n      <td>0.024003</td>\n      <td>0.467444</td>\n      <td>0.010176</td>\n    </tr>\n    <tr>\n      <th>std</th>\n      <td>NaN</td>\n      <td>NaN</td>\n      <td>NaN</td>\n      <td>6197.766825</td>\n      <td>3.023213e+04</td>\n      <td>0.028175</td>\n      <td>0.122868</td>\n      <td>0.305074</td>\n      <td>0.189263</td>\n      <td>0.016443</td>\n      <td>...</td>\n      <td>0.030199</td>\n      <td>0.039618</td>\n      <td>0.035819</td>\n      <td>0.276260</td>\n      <td>0.067403</td>\n      <td>0.007121</td>\n      <td>0.094050</td>\n      <td>0.153059</td>\n      <td>0.498943</td>\n      <td>0.100361</td>\n    </tr>\n    <tr>\n      <th>min</th>\n      <td>NaN</td>\n      <td>NaN</td>\n      <td>NaN</td>\n      <td>0.000000</td>\n      <td>0.000000e+00</td>\n      <td>0.000000</td>\n      <td>0.000000</td>\n      <td>0.000000</td>\n      <td>0.000000</td>\n      <td>0.000000</td>\n      <td>...</td>\n      <td>0.000000</td>\n      <td>0.000000</td>\n      <td>0.000000</td>\n      <td>0.000000</td>\n      <td>0.000000</td>\n      <td>0.000000</td>\n      <td>0.000000</td>\n      <td>0.000000</td>\n      <td>0.000000</td>\n      <td>0.000000</td>\n    </tr>\n    <tr>\n      <th>25%</th>\n      <td>NaN</td>\n      <td>NaN</td>\n      <td>NaN</td>\n      <td>0.000000</td>\n      <td>9.000000e-03</td>\n      <td>0.000000</td>\n      <td>0.000000</td>\n      <td>0.000000</td>\n      <td>0.000000</td>\n      <td>0.000000</td>\n      <td>...</td>\n      <td>0.000000</td>\n      <td>0.000000</td>\n      <td>0.000000</td>\n      <td>0.000000</td>\n      <td>0.000000</td>\n      <td>0.000000</td>\n      <td>0.000000</td>\n      <td>0.000000</td>\n      <td>0.000000</td>\n      <td>0.000000</td>\n    </tr>\n    <tr>\n      <th>50%</th>\n      <td>NaN</td>\n      <td>NaN</td>\n      <td>NaN</td>\n      <td>0.050000</td>\n      <td>1.375980e-01</td>\n      <td>0.000000</td>\n      <td>0.000000</td>\n      <td>0.000000</td>\n      <td>0.000000</td>\n      <td>0.000000</td>\n      <td>...</td>\n      <td>0.000000</td>\n      <td>0.000000</td>\n      <td>0.000000</td>\n      <td>0.000000</td>\n      <td>0.000000</td>\n      <td>0.000000</td>\n      <td>0.000000</td>\n      <td>0.000000</td>\n      <td>0.000000</td>\n      <td>0.000000</td>\n    </tr>\n    <tr>\n      <th>75%</th>\n      <td>NaN</td>\n      <td>NaN</td>\n      <td>NaN</td>\n      <td>1.900000</td>\n      <td>1.470000e+00</td>\n      <td>0.000000</td>\n      <td>0.000000</td>\n      <td>0.000000</td>\n      <td>0.000000</td>\n      <td>0.000000</td>\n      <td>...</td>\n      <td>0.000000</td>\n      <td>0.000000</td>\n      <td>0.000000</td>\n      <td>0.000000</td>\n      <td>0.000000</td>\n      <td>0.000000</td>\n      <td>0.000000</td>\n      <td>0.000000</td>\n      <td>1.000000</td>\n      <td>0.000000</td>\n    </tr>\n    <tr>\n      <th>max</th>\n      <td>NaN</td>\n      <td>NaN</td>\n      <td>NaN</td>\n      <td>122200.000000</td>\n      <td>5.030000e+06</td>\n      <td>1.000000</td>\n      <td>1.000000</td>\n      <td>1.000000</td>\n      <td>1.000000</td>\n      <td>1.000000</td>\n      <td>...</td>\n      <td>1.000000</td>\n      <td>1.000000</td>\n      <td>1.000000</td>\n      <td>1.000000</td>\n      <td>1.000000</td>\n      <td>1.000000</td>\n      <td>1.000000</td>\n      <td>1.000000</td>\n      <td>1.000000</td>\n      <td>1.000000</td>\n    </tr>\n  </tbody>\n</table>\n<p>11 rows × 44 columns</p>\n</div>",
      "text/plain": "           id    eid totalManualEntry  emissionsFactor  \\\ncount   59160  59160            59160     59160.000000   \nunique    820  59160                2              NaN   \ntop      3269  12547            False              NaN   \nfreq     1605      1            58850              NaN   \nmean      NaN    NaN              NaN       338.420322   \nstd       NaN    NaN              NaN      6197.766825   \nmin       NaN    NaN              NaN         0.000000   \n25%       NaN    NaN              NaN         0.000000   \n50%       NaN    NaN              NaN         0.050000   \n75%       NaN    NaN              NaN         1.900000   \nmax       NaN    NaN              NaN    122200.000000   \n\n        calculatedEmissionsTons  displayName_Acetal  displayName_Ammonia  \\\ncount              5.916000e+04        59160.000000         59160.000000   \nunique                      NaN                 NaN                  NaN   \ntop                         NaN                 NaN                  NaN   \nfreq                        NaN                 NaN                  NaN   \nmean               4.017511e+02            0.000794             0.015331   \nstd                3.023213e+04            0.028175             0.122868   \nmin                0.000000e+00            0.000000             0.000000   \n25%                9.000000e-03            0.000000             0.000000   \n50%                1.375980e-01            0.000000             0.000000   \n75%                1.470000e+00            0.000000             0.000000   \nmax                5.030000e+06            1.000000             1.000000   \n\n        displayName_Carbon  displayName_Condensible  displayName_Cumene  ...  \\\ncount         59160.000000             59160.000000        59160.000000  ...   \nunique                 NaN                      NaN                 NaN  ...   \ntop                    NaN                      NaN                 NaN  ...   \nfreq                   NaN                      NaN                 NaN  ...   \nmean              0.103854                 0.037204            0.000270  ...   \nstd               0.305074                 0.189263            0.016443  ...   \nmin               0.000000                 0.000000            0.000000  ...   \n25%               0.000000                 0.000000            0.000000  ...   \n50%               0.000000                 0.000000            0.000000  ...   \n75%               0.000000                 0.000000            0.000000  ...   \nmax               1.000000                 1.000000            1.000000  ...   \n\n        emissionsCalcMethodCode_31  emissionsCalcMethodCode_32  \\\ncount                 59160.000000                59160.000000   \nunique                         NaN                         NaN   \ntop                            NaN                         NaN   \nfreq                           NaN                         NaN   \nmean                      0.000913                    0.001572   \nstd                       0.030199                    0.039618   \nmin                       0.000000                    0.000000   \n25%                       0.000000                    0.000000   \n50%                       0.000000                    0.000000   \n75%                       0.000000                    0.000000   \nmax                       1.000000                    1.000000   \n\n        emissionsCalcMethodCode_33  emissionsCalcMethodCode_4  \\\ncount                 59160.000000               59160.000000   \nunique                         NaN                        NaN   \ntop                            NaN                        NaN   \nfreq                           NaN                        NaN   \nmean                      0.001285                   0.083249   \nstd                       0.035819                   0.276260   \nmin                       0.000000                   0.000000   \n25%                       0.000000                   0.000000   \n50%                       0.000000                   0.000000   \n75%                       0.000000                   0.000000   \nmax                       1.000000                   1.000000   \n\n        emissionsCalcMethodCode_41  emissionsCalcMethodCode_42  \\\ncount                 59160.000000                59160.000000   \nunique                         NaN                         NaN   \ntop                            NaN                         NaN   \nfreq                           NaN                         NaN   \nmean                      0.004564                    0.000051   \nstd                       0.067403                    0.007121   \nmin                       0.000000                    0.000000   \n25%                       0.000000                    0.000000   \n50%                       0.000000                    0.000000   \n75%                       0.000000                    0.000000   \nmax                       1.000000                    1.000000   \n\n        emissionsCalcMethodCode_5  emissionsCalcMethodCode_7  \\\ncount                59160.000000               59160.000000   \nunique                        NaN                        NaN   \ntop                           NaN                        NaN   \nfreq                          NaN                        NaN   \nmean                     0.008925                   0.024003   \nstd                      0.094050                   0.153059   \nmin                      0.000000                   0.000000   \n25%                      0.000000                   0.000000   \n50%                      0.000000                   0.000000   \n75%                      0.000000                   0.000000   \nmax                      1.000000                   1.000000   \n\n        emissionsCalcMethodCode_8  emissionsCalcMethodCode_9  \ncount                59160.000000               59160.000000  \nunique                        NaN                        NaN  \ntop                           NaN                        NaN  \nfreq                          NaN                        NaN  \nmean                     0.467444                   0.010176  \nstd                      0.498943                   0.100361  \nmin                      0.000000                   0.000000  \n25%                      0.000000                   0.000000  \n50%                      0.000000                   0.000000  \n75%                      1.000000                   0.000000  \nmax                      1.000000                   1.000000  \n\n[11 rows x 44 columns]"
     },
     "execution_count": 10,
     "metadata": {},
     "output_type": "execute_result"
    }
   ],
   "source": [
    "# X.drop('comments', axis=1, inplace=True)\r\n",
    "# X['calculationComment'].fillna(value='0', inplace=True)\r\n",
    "X.describe(include='all')"
   ]
  },
  {
   "cell_type": "code",
   "execution_count": 11,
   "metadata": {},
   "outputs": [
    {
     "data": {
      "text/plain": "False"
     },
     "execution_count": 11,
     "metadata": {},
     "output_type": "execute_result"
    }
   ],
   "source": [
    "X['id'].isna().values.any()"
   ]
  },
  {
   "cell_type": "code",
   "execution_count": 12,
   "metadata": {},
   "outputs": [
    {
     "name": "stderr",
     "output_type": "stream",
     "text": [
      "<ipython-input-12-d86f2473bd68>:1: SettingWithCopyWarning: \n",
      "A value is trying to be set on a copy of a slice from a DataFrame.\n",
      "Try using .loc[row_indexer,col_indexer] = value instead\n",
      "\n",
      "See the caveats in the documentation: https://pandas.pydata.org/pandas-docs/stable/user_guide/indexing.html#returning-a-view-versus-a-copy\n",
      "  X['totalManualEntry'] = X['totalManualEntry'].astype(int)\n"
     ]
    },
    {
     "data": {
      "text/plain": "False"
     },
     "execution_count": 12,
     "metadata": {},
     "output_type": "execute_result"
    }
   ],
   "source": [
    "X['totalManualEntry'] = X['totalManualEntry'].astype(int)\r\n",
    "# X.drop(['eid'], axis=1, inplace=True)\r\n",
    "# X.fillna(value=0, inplace=True)\r\n",
    "X.isna().values.any()  # check entire DF for nan values"
   ]
  },
  {
   "cell_type": "code",
   "execution_count": 13,
   "metadata": {},
   "outputs": [
    {
     "data": {
      "text/html": "<div>\n<style scoped>\n    .dataframe tbody tr th:only-of-type {\n        vertical-align: middle;\n    }\n\n    .dataframe tbody tr th {\n        vertical-align: top;\n    }\n\n    .dataframe thead th {\n        text-align: right;\n    }\n</style>\n<table border=\"1\" class=\"dataframe\">\n  <thead>\n    <tr style=\"text-align: right;\">\n      <th></th>\n      <th>id</th>\n      <th>eid</th>\n      <th>totalManualEntry</th>\n      <th>emissionsFactor</th>\n      <th>calculatedEmissionsTons</th>\n      <th>displayName_Acetal</th>\n      <th>displayName_Ammonia</th>\n      <th>displayName_Carbon</th>\n      <th>displayName_Condensible</th>\n      <th>displayName_Cumene</th>\n      <th>...</th>\n      <th>emissionsCalcMethodCode_31</th>\n      <th>emissionsCalcMethodCode_32</th>\n      <th>emissionsCalcMethodCode_33</th>\n      <th>emissionsCalcMethodCode_4</th>\n      <th>emissionsCalcMethodCode_41</th>\n      <th>emissionsCalcMethodCode_42</th>\n      <th>emissionsCalcMethodCode_5</th>\n      <th>emissionsCalcMethodCode_7</th>\n      <th>emissionsCalcMethodCode_8</th>\n      <th>emissionsCalcMethodCode_9</th>\n    </tr>\n  </thead>\n  <tbody>\n    <tr>\n      <th>0</th>\n      <td>1001</td>\n      <td>67351</td>\n      <td>0</td>\n      <td>0.0001</td>\n      <td>0.0053</td>\n      <td>0</td>\n      <td>0</td>\n      <td>0</td>\n      <td>0</td>\n      <td>0</td>\n      <td>...</td>\n      <td>0</td>\n      <td>0</td>\n      <td>0</td>\n      <td>0</td>\n      <td>0</td>\n      <td>0</td>\n      <td>0</td>\n      <td>0</td>\n      <td>1</td>\n      <td>0</td>\n    </tr>\n    <tr>\n      <th>1</th>\n      <td>1001</td>\n      <td>67352</td>\n      <td>0</td>\n      <td>0.0010</td>\n      <td>8.7100</td>\n      <td>0</td>\n      <td>0</td>\n      <td>0</td>\n      <td>0</td>\n      <td>0</td>\n      <td>...</td>\n      <td>0</td>\n      <td>0</td>\n      <td>1</td>\n      <td>0</td>\n      <td>0</td>\n      <td>0</td>\n      <td>0</td>\n      <td>0</td>\n      <td>0</td>\n      <td>0</td>\n    </tr>\n    <tr>\n      <th>2</th>\n      <td>1001</td>\n      <td>67354</td>\n      <td>0</td>\n      <td>0.0000</td>\n      <td>328.5000</td>\n      <td>0</td>\n      <td>0</td>\n      <td>0</td>\n      <td>0</td>\n      <td>0</td>\n      <td>...</td>\n      <td>0</td>\n      <td>0</td>\n      <td>0</td>\n      <td>0</td>\n      <td>0</td>\n      <td>0</td>\n      <td>0</td>\n      <td>0</td>\n      <td>0</td>\n      <td>0</td>\n    </tr>\n    <tr>\n      <th>3</th>\n      <td>1001</td>\n      <td>67353</td>\n      <td>0</td>\n      <td>0.0000</td>\n      <td>2050.3000</td>\n      <td>0</td>\n      <td>0</td>\n      <td>0</td>\n      <td>0</td>\n      <td>0</td>\n      <td>...</td>\n      <td>0</td>\n      <td>0</td>\n      <td>0</td>\n      <td>0</td>\n      <td>0</td>\n      <td>0</td>\n      <td>0</td>\n      <td>0</td>\n      <td>0</td>\n      <td>0</td>\n    </tr>\n    <tr>\n      <th>4</th>\n      <td>1001</td>\n      <td>67357</td>\n      <td>0</td>\n      <td>0.0000</td>\n      <td>2.4500</td>\n      <td>0</td>\n      <td>0</td>\n      <td>1</td>\n      <td>0</td>\n      <td>0</td>\n      <td>...</td>\n      <td>0</td>\n      <td>0</td>\n      <td>0</td>\n      <td>1</td>\n      <td>0</td>\n      <td>0</td>\n      <td>0</td>\n      <td>0</td>\n      <td>0</td>\n      <td>0</td>\n    </tr>\n    <tr>\n      <th>...</th>\n      <td>...</td>\n      <td>...</td>\n      <td>...</td>\n      <td>...</td>\n      <td>...</td>\n      <td>...</td>\n      <td>...</td>\n      <td>...</td>\n      <td>...</td>\n      <td>...</td>\n      <td>...</td>\n      <td>...</td>\n      <td>...</td>\n      <td>...</td>\n      <td>...</td>\n      <td>...</td>\n      <td>...</td>\n      <td>...</td>\n      <td>...</td>\n      <td>...</td>\n      <td>...</td>\n    </tr>\n    <tr>\n      <th>59155</th>\n      <td>999</td>\n      <td>67327</td>\n      <td>0</td>\n      <td>5.7000</td>\n      <td>0.0500</td>\n      <td>0</td>\n      <td>0</td>\n      <td>0</td>\n      <td>1</td>\n      <td>0</td>\n      <td>...</td>\n      <td>0</td>\n      <td>0</td>\n      <td>0</td>\n      <td>0</td>\n      <td>0</td>\n      <td>0</td>\n      <td>0</td>\n      <td>0</td>\n      <td>0</td>\n      <td>1</td>\n    </tr>\n    <tr>\n      <th>59156</th>\n      <td>999</td>\n      <td>67331</td>\n      <td>0</td>\n      <td>1.9000</td>\n      <td>0.0200</td>\n      <td>0</td>\n      <td>0</td>\n      <td>0</td>\n      <td>0</td>\n      <td>0</td>\n      <td>...</td>\n      <td>0</td>\n      <td>0</td>\n      <td>0</td>\n      <td>0</td>\n      <td>0</td>\n      <td>0</td>\n      <td>0</td>\n      <td>0</td>\n      <td>0</td>\n      <td>1</td>\n    </tr>\n    <tr>\n      <th>59157</th>\n      <td>999</td>\n      <td>67325</td>\n      <td>0</td>\n      <td>7.6000</td>\n      <td>0.0700</td>\n      <td>0</td>\n      <td>0</td>\n      <td>0</td>\n      <td>0</td>\n      <td>0</td>\n      <td>...</td>\n      <td>0</td>\n      <td>0</td>\n      <td>0</td>\n      <td>0</td>\n      <td>0</td>\n      <td>0</td>\n      <td>0</td>\n      <td>0</td>\n      <td>0</td>\n      <td>1</td>\n    </tr>\n    <tr>\n      <th>59158</th>\n      <td>999</td>\n      <td>67326</td>\n      <td>0</td>\n      <td>0.6000</td>\n      <td>0.0100</td>\n      <td>0</td>\n      <td>0</td>\n      <td>0</td>\n      <td>0</td>\n      <td>0</td>\n      <td>...</td>\n      <td>0</td>\n      <td>0</td>\n      <td>0</td>\n      <td>0</td>\n      <td>0</td>\n      <td>0</td>\n      <td>0</td>\n      <td>0</td>\n      <td>0</td>\n      <td>1</td>\n    </tr>\n    <tr>\n      <th>59159</th>\n      <td>999</td>\n      <td>67330</td>\n      <td>0</td>\n      <td>5.5000</td>\n      <td>0.0500</td>\n      <td>0</td>\n      <td>0</td>\n      <td>0</td>\n      <td>0</td>\n      <td>0</td>\n      <td>...</td>\n      <td>0</td>\n      <td>0</td>\n      <td>0</td>\n      <td>0</td>\n      <td>0</td>\n      <td>0</td>\n      <td>0</td>\n      <td>0</td>\n      <td>0</td>\n      <td>1</td>\n    </tr>\n  </tbody>\n</table>\n<p>59160 rows × 44 columns</p>\n</div>",
      "text/plain": "         id    eid  totalManualEntry  emissionsFactor  \\\n0      1001  67351                 0           0.0001   \n1      1001  67352                 0           0.0010   \n2      1001  67354                 0           0.0000   \n3      1001  67353                 0           0.0000   \n4      1001  67357                 0           0.0000   \n...     ...    ...               ...              ...   \n59155   999  67327                 0           5.7000   \n59156   999  67331                 0           1.9000   \n59157   999  67325                 0           7.6000   \n59158   999  67326                 0           0.6000   \n59159   999  67330                 0           5.5000   \n\n       calculatedEmissionsTons  displayName_Acetal  displayName_Ammonia  \\\n0                       0.0053                   0                    0   \n1                       8.7100                   0                    0   \n2                     328.5000                   0                    0   \n3                    2050.3000                   0                    0   \n4                       2.4500                   0                    0   \n...                        ...                 ...                  ...   \n59155                   0.0500                   0                    0   \n59156                   0.0200                   0                    0   \n59157                   0.0700                   0                    0   \n59158                   0.0100                   0                    0   \n59159                   0.0500                   0                    0   \n\n       displayName_Carbon  displayName_Condensible  displayName_Cumene  ...  \\\n0                       0                        0                   0  ...   \n1                       0                        0                   0  ...   \n2                       0                        0                   0  ...   \n3                       0                        0                   0  ...   \n4                       1                        0                   0  ...   \n...                   ...                      ...                 ...  ...   \n59155                   0                        1                   0  ...   \n59156                   0                        0                   0  ...   \n59157                   0                        0                   0  ...   \n59158                   0                        0                   0  ...   \n59159                   0                        0                   0  ...   \n\n       emissionsCalcMethodCode_31  emissionsCalcMethodCode_32  \\\n0                               0                           0   \n1                               0                           0   \n2                               0                           0   \n3                               0                           0   \n4                               0                           0   \n...                           ...                         ...   \n59155                           0                           0   \n59156                           0                           0   \n59157                           0                           0   \n59158                           0                           0   \n59159                           0                           0   \n\n       emissionsCalcMethodCode_33  emissionsCalcMethodCode_4  \\\n0                               0                          0   \n1                               1                          0   \n2                               0                          0   \n3                               0                          0   \n4                               0                          1   \n...                           ...                        ...   \n59155                           0                          0   \n59156                           0                          0   \n59157                           0                          0   \n59158                           0                          0   \n59159                           0                          0   \n\n       emissionsCalcMethodCode_41  emissionsCalcMethodCode_42  \\\n0                               0                           0   \n1                               0                           0   \n2                               0                           0   \n3                               0                           0   \n4                               0                           0   \n...                           ...                         ...   \n59155                           0                           0   \n59156                           0                           0   \n59157                           0                           0   \n59158                           0                           0   \n59159                           0                           0   \n\n       emissionsCalcMethodCode_5  emissionsCalcMethodCode_7  \\\n0                              0                          0   \n1                              0                          0   \n2                              0                          0   \n3                              0                          0   \n4                              0                          0   \n...                          ...                        ...   \n59155                          0                          0   \n59156                          0                          0   \n59157                          0                          0   \n59158                          0                          0   \n59159                          0                          0   \n\n       emissionsCalcMethodCode_8  emissionsCalcMethodCode_9  \n0                              1                          0  \n1                              0                          0  \n2                              0                          0  \n3                              0                          0  \n4                              0                          0  \n...                          ...                        ...  \n59155                          0                          1  \n59156                          0                          1  \n59157                          0                          1  \n59158                          0                          1  \n59159                          0                          1  \n\n[59160 rows x 44 columns]"
     },
     "execution_count": 13,
     "metadata": {},
     "output_type": "execute_result"
    }
   ],
   "source": [
    "X"
   ]
  },
  {
   "cell_type": "markdown",
   "metadata": {},
   "source": [
    "## Abandoned Cleaning of Compound Names\r\n",
    "(collapse everything under this section (click to chevron))"
   ]
  },
  {
   "cell_type": "code",
   "execution_count": 219,
   "metadata": {},
   "outputs": [],
   "source": [
    "annual = X.filter(like='displayName').filter(like='Annual').columns.to_list()\r\n",
    "new_annual = pandas.Series(annual).str.replace(r'(displayName).+(Annual)','')\r\n",
    "new_annual = new_annual.to_list()\r\n",
    "dictionary = dict(zip(annual, new_annual))\r\n",
    "X.rename(columns=dictionary, inplace=True)"
   ]
  },
  {
   "cell_type": "code",
   "execution_count": 220,
   "metadata": {},
   "outputs": [],
   "source": [
    "import re\r\n",
    "t = X.filter(like='Tetrachloroethane').columns.to_list()\r\n",
    "new_t = pandas.Series(t).str.replace(r'.+(Tetrachloroethane)\\)',r'\\1', regex=True)\r\n",
    "new_t = new_t.to_list()\r\n",
    "dictionary = dict(zip(t, new_t))\r\n",
    "X.rename(columns=dictionary, inplace=True)"
   ]
  },
  {
   "cell_type": "code",
   "execution_count": 221,
   "metadata": {},
   "outputs": [
    {
     "data": {
      "text/plain": "(1,4-Dichlorobenzene)                                3\n(Hydroquinone)                                       2\n(Radionuclides (Radioactivity - Including Radon))    2\n(Dibenzo[a,h]Anthracene)                             2\n(Benzo[a]Pyrene)                                     2\n                                                    ..\ndisplayName_Methanol                                 1\nemissionsCalcMethodCode_30                           1\ndisplayName_Xylenes                                  1\neid                                                  1\nemissionsCalcMethodCode_10                           1\nLength: 67, dtype: int64"
     },
     "execution_count": 221,
     "metadata": {},
     "output_type": "execute_result"
    }
   ],
   "source": [
    "X.columns.value_counts()[X.columns.value_counts() < 4]"
   ]
  },
  {
   "cell_type": "code",
   "execution_count": 222,
   "metadata": {},
   "outputs": [],
   "source": [
    "X2 = X.groupby(X.columns, axis=1).sum()"
   ]
  },
  {
   "cell_type": "code",
   "execution_count": 223,
   "metadata": {},
   "outputs": [
    {
     "data": {
      "text/plain": "Index(['(1,1,2-Trichloroethane)', '(1,2,4-Trichlorobenzene)',\n       '(1,2-Dibromo-3-Chloropropane)', '(1,3-Butadiene)',\n       '(1,3-Dichloropropene)', '(1,4-Dichlorobenzene)',\n       '(1-Methylnaphthalene)', '(2,2,4-Trimethylpentane)',\n       '(2,4-Dinitrotoluene)', '(2-Chloroacetophenone)',\n       ...\n       'emissionsCalcMethodCode_41', 'emissionsCalcMethodCode_42',\n       'emissionsCalcMethodCode_5', 'emissionsCalcMethodCode_6',\n       'emissionsCalcMethodCode_7', 'emissionsCalcMethodCode_8',\n       'emissionsCalcMethodCode_9', 'emissionsFactor', 'id',\n       'totalManualEntry'],\n      dtype='object', length=123)"
     },
     "execution_count": 223,
     "metadata": {},
     "output_type": "execute_result"
    }
   ],
   "source": [
    "X2.columns"
   ]
  },
  {
   "cell_type": "code",
   "execution_count": 224,
   "metadata": {},
   "outputs": [
    {
     "data": {
      "text/plain": "Index(['id', 'eid', 'displayName', 'totalManualEntry', 'emissionsFactor',\n       'emissionsFactorText', 'emissionsCalcMethodCode', 'comments',\n       'calculationComment', 'calculatedEmissionsTons'],\n      dtype='object')"
     },
     "execution_count": 224,
     "metadata": {},
     "output_type": "execute_result"
    }
   ],
   "source": [
    "df.columns"
   ]
  },
  {
   "cell_type": "markdown",
   "metadata": {},
   "source": [
    "## Continue On....\r\n",
    "## Scale the Novelty Data"
   ]
  },
  {
   "cell_type": "code",
   "execution_count": 14,
   "metadata": {},
   "outputs": [],
   "source": [
    "scalers = X[['calculatedEmissionsTons','emissionsFactor']]"
   ]
  },
  {
   "cell_type": "code",
   "execution_count": 15,
   "metadata": {},
   "outputs": [
    {
     "data": {
      "text/html": "<div>\n<style scoped>\n    .dataframe tbody tr th:only-of-type {\n        vertical-align: middle;\n    }\n\n    .dataframe tbody tr th {\n        vertical-align: top;\n    }\n\n    .dataframe thead th {\n        text-align: right;\n    }\n</style>\n<table border=\"1\" class=\"dataframe\">\n  <thead>\n    <tr style=\"text-align: right;\">\n      <th></th>\n      <th>id</th>\n      <th>eid</th>\n      <th>totalManualEntry</th>\n      <th>emissionsFactor</th>\n      <th>calculatedEmissionsTons</th>\n      <th>displayName_Acetal</th>\n      <th>displayName_Ammonia</th>\n      <th>displayName_Carbon</th>\n      <th>displayName_Condensible</th>\n      <th>displayName_Cumene</th>\n      <th>...</th>\n      <th>emissionsCalcMethodCode_31</th>\n      <th>emissionsCalcMethodCode_32</th>\n      <th>emissionsCalcMethodCode_33</th>\n      <th>emissionsCalcMethodCode_4</th>\n      <th>emissionsCalcMethodCode_41</th>\n      <th>emissionsCalcMethodCode_42</th>\n      <th>emissionsCalcMethodCode_5</th>\n      <th>emissionsCalcMethodCode_7</th>\n      <th>emissionsCalcMethodCode_8</th>\n      <th>emissionsCalcMethodCode_9</th>\n    </tr>\n  </thead>\n  <tbody>\n    <tr>\n      <th>0</th>\n      <td>1001</td>\n      <td>67351</td>\n      <td>0</td>\n      <td>8.183306e-10</td>\n      <td>1.053678e-09</td>\n      <td>0</td>\n      <td>0</td>\n      <td>0</td>\n      <td>0</td>\n      <td>0</td>\n      <td>...</td>\n      <td>0</td>\n      <td>0</td>\n      <td>0</td>\n      <td>0</td>\n      <td>0</td>\n      <td>0</td>\n      <td>0</td>\n      <td>0</td>\n      <td>1</td>\n      <td>0</td>\n    </tr>\n    <tr>\n      <th>1</th>\n      <td>1001</td>\n      <td>67352</td>\n      <td>0</td>\n      <td>8.183306e-09</td>\n      <td>1.731610e-06</td>\n      <td>0</td>\n      <td>0</td>\n      <td>0</td>\n      <td>0</td>\n      <td>0</td>\n      <td>...</td>\n      <td>0</td>\n      <td>0</td>\n      <td>1</td>\n      <td>0</td>\n      <td>0</td>\n      <td>0</td>\n      <td>0</td>\n      <td>0</td>\n      <td>0</td>\n      <td>0</td>\n    </tr>\n    <tr>\n      <th>2</th>\n      <td>1001</td>\n      <td>67354</td>\n      <td>0</td>\n      <td>0.000000e+00</td>\n      <td>6.530815e-05</td>\n      <td>0</td>\n      <td>0</td>\n      <td>0</td>\n      <td>0</td>\n      <td>0</td>\n      <td>...</td>\n      <td>0</td>\n      <td>0</td>\n      <td>0</td>\n      <td>0</td>\n      <td>0</td>\n      <td>0</td>\n      <td>0</td>\n      <td>0</td>\n      <td>0</td>\n      <td>0</td>\n    </tr>\n    <tr>\n      <th>3</th>\n      <td>1001</td>\n      <td>67353</td>\n      <td>0</td>\n      <td>0.000000e+00</td>\n      <td>4.076143e-04</td>\n      <td>0</td>\n      <td>0</td>\n      <td>0</td>\n      <td>0</td>\n      <td>0</td>\n      <td>...</td>\n      <td>0</td>\n      <td>0</td>\n      <td>0</td>\n      <td>0</td>\n      <td>0</td>\n      <td>0</td>\n      <td>0</td>\n      <td>0</td>\n      <td>0</td>\n      <td>0</td>\n    </tr>\n    <tr>\n      <th>4</th>\n      <td>1001</td>\n      <td>67357</td>\n      <td>0</td>\n      <td>0.000000e+00</td>\n      <td>4.870775e-07</td>\n      <td>0</td>\n      <td>0</td>\n      <td>1</td>\n      <td>0</td>\n      <td>0</td>\n      <td>...</td>\n      <td>0</td>\n      <td>0</td>\n      <td>0</td>\n      <td>1</td>\n      <td>0</td>\n      <td>0</td>\n      <td>0</td>\n      <td>0</td>\n      <td>0</td>\n      <td>0</td>\n    </tr>\n    <tr>\n      <th>...</th>\n      <td>...</td>\n      <td>...</td>\n      <td>...</td>\n      <td>...</td>\n      <td>...</td>\n      <td>...</td>\n      <td>...</td>\n      <td>...</td>\n      <td>...</td>\n      <td>...</td>\n      <td>...</td>\n      <td>...</td>\n      <td>...</td>\n      <td>...</td>\n      <td>...</td>\n      <td>...</td>\n      <td>...</td>\n      <td>...</td>\n      <td>...</td>\n      <td>...</td>\n      <td>...</td>\n    </tr>\n    <tr>\n      <th>59155</th>\n      <td>999</td>\n      <td>67327</td>\n      <td>0</td>\n      <td>4.664484e-05</td>\n      <td>9.940358e-09</td>\n      <td>0</td>\n      <td>0</td>\n      <td>0</td>\n      <td>1</td>\n      <td>0</td>\n      <td>...</td>\n      <td>0</td>\n      <td>0</td>\n      <td>0</td>\n      <td>0</td>\n      <td>0</td>\n      <td>0</td>\n      <td>0</td>\n      <td>0</td>\n      <td>0</td>\n      <td>1</td>\n    </tr>\n    <tr>\n      <th>59156</th>\n      <td>999</td>\n      <td>67331</td>\n      <td>0</td>\n      <td>1.554828e-05</td>\n      <td>3.976143e-09</td>\n      <td>0</td>\n      <td>0</td>\n      <td>0</td>\n      <td>0</td>\n      <td>0</td>\n      <td>...</td>\n      <td>0</td>\n      <td>0</td>\n      <td>0</td>\n      <td>0</td>\n      <td>0</td>\n      <td>0</td>\n      <td>0</td>\n      <td>0</td>\n      <td>0</td>\n      <td>1</td>\n    </tr>\n    <tr>\n      <th>59157</th>\n      <td>999</td>\n      <td>67325</td>\n      <td>0</td>\n      <td>6.219313e-05</td>\n      <td>1.391650e-08</td>\n      <td>0</td>\n      <td>0</td>\n      <td>0</td>\n      <td>0</td>\n      <td>0</td>\n      <td>...</td>\n      <td>0</td>\n      <td>0</td>\n      <td>0</td>\n      <td>0</td>\n      <td>0</td>\n      <td>0</td>\n      <td>0</td>\n      <td>0</td>\n      <td>0</td>\n      <td>1</td>\n    </tr>\n    <tr>\n      <th>59158</th>\n      <td>999</td>\n      <td>67326</td>\n      <td>0</td>\n      <td>4.909984e-06</td>\n      <td>1.988072e-09</td>\n      <td>0</td>\n      <td>0</td>\n      <td>0</td>\n      <td>0</td>\n      <td>0</td>\n      <td>...</td>\n      <td>0</td>\n      <td>0</td>\n      <td>0</td>\n      <td>0</td>\n      <td>0</td>\n      <td>0</td>\n      <td>0</td>\n      <td>0</td>\n      <td>0</td>\n      <td>1</td>\n    </tr>\n    <tr>\n      <th>59159</th>\n      <td>999</td>\n      <td>67330</td>\n      <td>0</td>\n      <td>4.500818e-05</td>\n      <td>9.940358e-09</td>\n      <td>0</td>\n      <td>0</td>\n      <td>0</td>\n      <td>0</td>\n      <td>0</td>\n      <td>...</td>\n      <td>0</td>\n      <td>0</td>\n      <td>0</td>\n      <td>0</td>\n      <td>0</td>\n      <td>0</td>\n      <td>0</td>\n      <td>0</td>\n      <td>0</td>\n      <td>1</td>\n    </tr>\n  </tbody>\n</table>\n<p>59160 rows × 44 columns</p>\n</div>",
      "text/plain": "         id    eid  totalManualEntry  emissionsFactor  \\\n0      1001  67351                 0     8.183306e-10   \n1      1001  67352                 0     8.183306e-09   \n2      1001  67354                 0     0.000000e+00   \n3      1001  67353                 0     0.000000e+00   \n4      1001  67357                 0     0.000000e+00   \n...     ...    ...               ...              ...   \n59155   999  67327                 0     4.664484e-05   \n59156   999  67331                 0     1.554828e-05   \n59157   999  67325                 0     6.219313e-05   \n59158   999  67326                 0     4.909984e-06   \n59159   999  67330                 0     4.500818e-05   \n\n       calculatedEmissionsTons  displayName_Acetal  displayName_Ammonia  \\\n0                 1.053678e-09                   0                    0   \n1                 1.731610e-06                   0                    0   \n2                 6.530815e-05                   0                    0   \n3                 4.076143e-04                   0                    0   \n4                 4.870775e-07                   0                    0   \n...                        ...                 ...                  ...   \n59155             9.940358e-09                   0                    0   \n59156             3.976143e-09                   0                    0   \n59157             1.391650e-08                   0                    0   \n59158             1.988072e-09                   0                    0   \n59159             9.940358e-09                   0                    0   \n\n       displayName_Carbon  displayName_Condensible  displayName_Cumene  ...  \\\n0                       0                        0                   0  ...   \n1                       0                        0                   0  ...   \n2                       0                        0                   0  ...   \n3                       0                        0                   0  ...   \n4                       1                        0                   0  ...   \n...                   ...                      ...                 ...  ...   \n59155                   0                        1                   0  ...   \n59156                   0                        0                   0  ...   \n59157                   0                        0                   0  ...   \n59158                   0                        0                   0  ...   \n59159                   0                        0                   0  ...   \n\n       emissionsCalcMethodCode_31  emissionsCalcMethodCode_32  \\\n0                               0                           0   \n1                               0                           0   \n2                               0                           0   \n3                               0                           0   \n4                               0                           0   \n...                           ...                         ...   \n59155                           0                           0   \n59156                           0                           0   \n59157                           0                           0   \n59158                           0                           0   \n59159                           0                           0   \n\n       emissionsCalcMethodCode_33  emissionsCalcMethodCode_4  \\\n0                               0                          0   \n1                               1                          0   \n2                               0                          0   \n3                               0                          0   \n4                               0                          1   \n...                           ...                        ...   \n59155                           0                          0   \n59156                           0                          0   \n59157                           0                          0   \n59158                           0                          0   \n59159                           0                          0   \n\n       emissionsCalcMethodCode_41  emissionsCalcMethodCode_42  \\\n0                               0                           0   \n1                               0                           0   \n2                               0                           0   \n3                               0                           0   \n4                               0                           0   \n...                           ...                         ...   \n59155                           0                           0   \n59156                           0                           0   \n59157                           0                           0   \n59158                           0                           0   \n59159                           0                           0   \n\n       emissionsCalcMethodCode_5  emissionsCalcMethodCode_7  \\\n0                              0                          0   \n1                              0                          0   \n2                              0                          0   \n3                              0                          0   \n4                              0                          0   \n...                          ...                        ...   \n59155                          0                          0   \n59156                          0                          0   \n59157                          0                          0   \n59158                          0                          0   \n59159                          0                          0   \n\n       emissionsCalcMethodCode_8  emissionsCalcMethodCode_9  \n0                              1                          0  \n1                              0                          0  \n2                              0                          0  \n3                              0                          0  \n4                              0                          0  \n...                          ...                        ...  \n59155                          0                          1  \n59156                          0                          1  \n59157                          0                          1  \n59158                          0                          1  \n59159                          0                          1  \n\n[59160 rows x 44 columns]"
     },
     "execution_count": 15,
     "metadata": {},
     "output_type": "execute_result"
    }
   ],
   "source": [
    "from sklearn.preprocessing import MinMaxScaler\r\n",
    "X_scaled = X.copy()\r\n",
    "scalers = MinMaxScaler().fit_transform(scalers.values)\r\n",
    "X_scaled[['calculatedEmissionsTons','emissionsFactor']] = scalers\r\n",
    "X_scaled.fillna(value=0, inplace=True)\r\n",
    "X_scaled"
   ]
  },
  {
   "cell_type": "code",
   "execution_count": 39,
   "metadata": {},
   "outputs": [
    {
     "data": {
      "text/html": "<div>\n<style scoped>\n    .dataframe tbody tr th:only-of-type {\n        vertical-align: middle;\n    }\n\n    .dataframe tbody tr th {\n        vertical-align: top;\n    }\n\n    .dataframe thead th {\n        text-align: right;\n    }\n</style>\n<table border=\"1\" class=\"dataframe\">\n  <thead>\n    <tr style=\"text-align: right;\">\n      <th></th>\n      <th>id</th>\n      <th>eid</th>\n      <th>totalManualEntry</th>\n      <th>emissionsFactor</th>\n      <th>calculatedEmissionsTons</th>\n      <th>displayName_Acetal</th>\n      <th>displayName_Ammonia</th>\n      <th>displayName_Carbon</th>\n      <th>displayName_Condensible</th>\n      <th>displayName_Cumene</th>\n      <th>...</th>\n      <th>emissionsCalcMethodCode_31</th>\n      <th>emissionsCalcMethodCode_32</th>\n      <th>emissionsCalcMethodCode_33</th>\n      <th>emissionsCalcMethodCode_4</th>\n      <th>emissionsCalcMethodCode_41</th>\n      <th>emissionsCalcMethodCode_42</th>\n      <th>emissionsCalcMethodCode_5</th>\n      <th>emissionsCalcMethodCode_7</th>\n      <th>emissionsCalcMethodCode_8</th>\n      <th>emissionsCalcMethodCode_9</th>\n    </tr>\n  </thead>\n  <tbody>\n    <tr>\n      <th>37768</th>\n      <td>3252</td>\n      <td>162009</td>\n      <td>0</td>\n      <td>0.0</td>\n      <td>5030000.0</td>\n      <td>0</td>\n      <td>0</td>\n      <td>1</td>\n      <td>0</td>\n      <td>0</td>\n      <td>...</td>\n      <td>0</td>\n      <td>0</td>\n      <td>0</td>\n      <td>0</td>\n      <td>0</td>\n      <td>0</td>\n      <td>0</td>\n      <td>0</td>\n      <td>0</td>\n      <td>0</td>\n    </tr>\n  </tbody>\n</table>\n<p>1 rows × 44 columns</p>\n</div>",
      "text/plain": "         id     eid  totalManualEntry  emissionsFactor  \\\n37768  3252  162009                 0              0.0   \n\n       calculatedEmissionsTons  displayName_Acetal  displayName_Ammonia  \\\n37768                5030000.0                   0                    0   \n\n       displayName_Carbon  displayName_Condensible  displayName_Cumene  ...  \\\n37768                   1                        0                   0  ...   \n\n       emissionsCalcMethodCode_31  emissionsCalcMethodCode_32  \\\n37768                           0                           0   \n\n       emissionsCalcMethodCode_33  emissionsCalcMethodCode_4  \\\n37768                           0                          0   \n\n       emissionsCalcMethodCode_41  emissionsCalcMethodCode_42  \\\n37768                           0                           0   \n\n       emissionsCalcMethodCode_5  emissionsCalcMethodCode_7  \\\n37768                          0                          0   \n\n       emissionsCalcMethodCode_8  emissionsCalcMethodCode_9  \n37768                          0                          0  \n\n[1 rows x 44 columns]"
     },
     "execution_count": 39,
     "metadata": {},
     "output_type": "execute_result"
    }
   ],
   "source": [
    "X[X.calculatedEmissionsTons>5000000]"
   ]
  },
  {
   "cell_type": "code",
   "execution_count": 16,
   "metadata": {},
   "outputs": [
    {
     "data": {
      "text/html": "<div>\n<style scoped>\n    .dataframe tbody tr th:only-of-type {\n        vertical-align: middle;\n    }\n\n    .dataframe tbody tr th {\n        vertical-align: top;\n    }\n\n    .dataframe thead th {\n        text-align: right;\n    }\n</style>\n<table border=\"1\" class=\"dataframe\">\n  <thead>\n    <tr style=\"text-align: right;\">\n      <th></th>\n      <th>calculatedEmissionsTons</th>\n      <th>calculatedEmissionsTons</th>\n    </tr>\n  </thead>\n  <tbody>\n    <tr>\n      <th>count</th>\n      <td>5.916000e+04</td>\n      <td>5.916000e+04</td>\n    </tr>\n    <tr>\n      <th>mean</th>\n      <td>7.987100e-05</td>\n      <td>4.017511e+02</td>\n    </tr>\n    <tr>\n      <th>std</th>\n      <td>6.010364e-03</td>\n      <td>3.023213e+04</td>\n    </tr>\n    <tr>\n      <th>min</th>\n      <td>0.000000e+00</td>\n      <td>0.000000e+00</td>\n    </tr>\n    <tr>\n      <th>25%</th>\n      <td>1.789264e-09</td>\n      <td>9.000000e-03</td>\n    </tr>\n    <tr>\n      <th>50%</th>\n      <td>2.735547e-08</td>\n      <td>1.375980e-01</td>\n    </tr>\n    <tr>\n      <th>75%</th>\n      <td>2.922465e-07</td>\n      <td>1.470000e+00</td>\n    </tr>\n    <tr>\n      <th>max</th>\n      <td>1.000000e+00</td>\n      <td>5.030000e+06</td>\n    </tr>\n  </tbody>\n</table>\n</div>",
      "text/plain": "       calculatedEmissionsTons  calculatedEmissionsTons\ncount             5.916000e+04             5.916000e+04\nmean              7.987100e-05             4.017511e+02\nstd               6.010364e-03             3.023213e+04\nmin               0.000000e+00             0.000000e+00\n25%               1.789264e-09             9.000000e-03\n50%               2.735547e-08             1.375980e-01\n75%               2.922465e-07             1.470000e+00\nmax               1.000000e+00             5.030000e+06"
     },
     "execution_count": 16,
     "metadata": {},
     "output_type": "execute_result"
    }
   ],
   "source": [
    "pandas.DataFrame([X_scaled.calculatedEmissionsTons,X.calculatedEmissionsTons]).T.describe()"
   ]
  },
  {
   "cell_type": "code",
   "execution_count": 17,
   "metadata": {},
   "outputs": [
    {
     "data": {
      "text/html": "<div>\n<style scoped>\n    .dataframe tbody tr th:only-of-type {\n        vertical-align: middle;\n    }\n\n    .dataframe tbody tr th {\n        vertical-align: top;\n    }\n\n    .dataframe thead th {\n        text-align: right;\n    }\n</style>\n<table border=\"1\" class=\"dataframe\">\n  <thead>\n    <tr style=\"text-align: right;\">\n      <th></th>\n      <th>emissionsFactor</th>\n      <th>emissionsFactor</th>\n    </tr>\n  </thead>\n  <tbody>\n    <tr>\n      <th>count</th>\n      <td>5.916000e+04</td>\n      <td>59160.000000</td>\n    </tr>\n    <tr>\n      <th>mean</th>\n      <td>2.769397e-03</td>\n      <td>338.420322</td>\n    </tr>\n    <tr>\n      <th>std</th>\n      <td>5.071822e-02</td>\n      <td>6197.766825</td>\n    </tr>\n    <tr>\n      <th>min</th>\n      <td>0.000000e+00</td>\n      <td>0.000000</td>\n    </tr>\n    <tr>\n      <th>25%</th>\n      <td>0.000000e+00</td>\n      <td>0.000000</td>\n    </tr>\n    <tr>\n      <th>50%</th>\n      <td>4.091653e-07</td>\n      <td>0.050000</td>\n    </tr>\n    <tr>\n      <th>75%</th>\n      <td>1.554828e-05</td>\n      <td>1.900000</td>\n    </tr>\n    <tr>\n      <th>max</th>\n      <td>1.000000e+00</td>\n      <td>122200.000000</td>\n    </tr>\n  </tbody>\n</table>\n</div>",
      "text/plain": "       emissionsFactor  emissionsFactor\ncount     5.916000e+04     59160.000000\nmean      2.769397e-03       338.420322\nstd       5.071822e-02      6197.766825\nmin       0.000000e+00         0.000000\n25%       0.000000e+00         0.000000\n50%       4.091653e-07         0.050000\n75%       1.554828e-05         1.900000\nmax       1.000000e+00    122200.000000"
     },
     "execution_count": 17,
     "metadata": {},
     "output_type": "execute_result"
    }
   ],
   "source": [
    "pandas.DataFrame([X_scaled.emissionsFactor,X.emissionsFactor]).T.describe()"
   ]
  },
  {
   "cell_type": "code",
   "execution_count": 21,
   "metadata": {},
   "outputs": [],
   "source": [
    "from sklearn.svm import OneClassSVM\r\n",
    "import pickle\r\n",
    "# load\r\n",
    "with open('OCSVM.pkl', 'rb') as f:  # open OCSVM model\r\n",
    "    svm = pickle.load(f)\r\n",
    "feats = ['emissionsCalcMethodCode_8',\r\n",
    " 'emissionsCalcMethodCode_8',\r\n",
    " 'displayName_Filt + Cond',\r\n",
    " 'displayName_Volatile Organic Compounds',\r\n",
    " 'displayName_Nitrogen',\r\n",
    " 'emissionsCalcMethodCode_13',\r\n",
    " 'displayName_Carbon',\r\n",
    " 'displayName_Sulfur',\r\n",
    " 'emissionsCalcMethodCode_2',\r\n",
    " 'emissionsCalcMethodCode_10',\r\n",
    " 'emissionsCalcMethodCode_3',\r\n",
    " 'emissionsCalcMethodCode_4',\r\n",
    " 'emissionsCalcMethodCode_1',\r\n",
    " 'emissionsCalcMethodCode_7',\r\n",
    " 'displayName_Lead',\r\n",
    " 'emissionsCalcMethodCode_11',\r\n",
    " 'displayName_Condensible',\r\n",
    " 'displayName_Ammonia',\r\n",
    " 'emissionsCalcMethodCode_30',\r\n",
    " 'emissionsCalcMethodCode_28',\r\n",
    " 'emissionsCalcMethodCode_41',\r\n",
    " 'emissionsCalcMethodCode_5',\r\n",
    " 'emissionsCalcMethodCode_9',\r\n",
    " 'emissionsCalcMethodCode_29',\r\n",
    " 'emissionsCalcMethodCode_33',\r\n",
    " 'emissionsCalcMethodCode_24',\r\n",
    " 'emissionsCalcMethodCode_31',\r\n",
    " 'emissionsCalcMethodCode_32',\r\n",
    " 'emissionsCalcMethodCode_42',\r\n",
    " 'calculatedEmissionsTons',\r\n",
    " 'displayName_Methanol',\r\n",
    " 'emissionsFactor']\r\n",
    "x = X_scaled[feats]\r\n",
    "fake_predict = svm.predict(x)\r\n",
    "n_error = fake_predict[fake_predict == -1].size\r\n",
    "# # filter outlier index\r\n",
    "error_idx = np.where(fake_predict == -1)\r\n",
    "# # filter outlier values\r\n",
    "error_values = X[feats].iloc[error_idx]"
   ]
  },
  {
   "cell_type": "markdown",
   "metadata": {},
   "source": [
    "\"Errors\" or reports that were identified outside of the decision boundary"
   ]
  },
  {
   "cell_type": "code",
   "execution_count": 22,
   "metadata": {},
   "outputs": [
    {
     "data": {
      "text/plain": "22333"
     },
     "execution_count": 22,
     "metadata": {},
     "output_type": "execute_result"
    }
   ],
   "source": [
    "n_error"
   ]
  },
  {
   "cell_type": "markdown",
   "metadata": {},
   "source": [
    "This was the outlandish emissions file with 5 million tons of calculated emissions"
   ]
  },
  {
   "cell_type": "code",
   "execution_count": 20,
   "metadata": {},
   "outputs": [
    {
     "data": {
      "text/plain": "emissionsCalcMethodCode_8                       0.0\nemissionsCalcMethodCode_8                       0.0\ndisplayName_Filt + Cond                         0.0\ndisplayName_Volatile Organic Compounds          0.0\ndisplayName_Nitrogen                            0.0\nemissionsCalcMethodCode_13                      0.0\ndisplayName_Carbon                              1.0\ndisplayName_Sulfur                              0.0\nemissionsCalcMethodCode_2                       0.0\nemissionsCalcMethodCode_10                      0.0\nemissionsCalcMethodCode_3                       0.0\nemissionsCalcMethodCode_4                       0.0\nemissionsCalcMethodCode_1                       1.0\nemissionsCalcMethodCode_7                       0.0\ndisplayName_Lead                                0.0\nemissionsCalcMethodCode_11                      0.0\ndisplayName_Condensible                         0.0\ndisplayName_Ammonia                             0.0\nemissionsCalcMethodCode_30                      0.0\nemissionsCalcMethodCode_28                      0.0\nemissionsCalcMethodCode_41                      0.0\nemissionsCalcMethodCode_5                       0.0\nemissionsCalcMethodCode_9                       0.0\nemissionsCalcMethodCode_29                      0.0\nemissionsCalcMethodCode_33                      0.0\nemissionsCalcMethodCode_24                      0.0\nemissionsCalcMethodCode_31                      0.0\nemissionsCalcMethodCode_32                      0.0\nemissionsCalcMethodCode_42                      0.0\ncalculatedEmissionsTons                   5030000.0\ndisplayName_Methanol                            0.0\nemissionsFactor                                 0.0\nName: 37768, dtype: float64"
     },
     "execution_count": 20,
     "metadata": {},
     "output_type": "execute_result"
    }
   ],
   "source": [
    "error_values.loc[37768]"
   ]
  },
  {
   "cell_type": "code",
   "execution_count": 23,
   "metadata": {},
   "outputs": [],
   "source": [
    "# load\r\n",
    "with open('IF.pkl', 'rb') as f:  # open Isolation Forest model\r\n",
    "    if_clf = pickle.load(f)"
   ]
  },
  {
   "cell_type": "code",
   "execution_count": 24,
   "metadata": {},
   "outputs": [
    {
     "name": "stdout",
     "output_type": "stream",
     "text": [
      "errors: 4005/59160(7.000000000000001%)\n"
     ]
    }
   ],
   "source": [
    "from sklearn.ensemble import IsolationForest\r\n",
    "\r\n",
    "\r\n",
    "y_predicted_test = if_clf.predict(x)\r\n",
    "\r\n",
    "n_error_test = y_predicted_test[y_predicted_test == -1].size\r\n",
    "# # filter outlier index\r\n",
    "error_test_idx = np.where(y_predicted_test == -1)\r\n",
    "# # filter outlier values\r\n",
    "error_test_values = X.iloc[error_test_idx]\r\n",
    "\r\n",
    "test_rate = round(n_error_test/len(x),2) * 100\r\n",
    "print(\"errors: \" +str(n_error_test) +  \"/\" + str(len(x)) + \"(\"+str(test_rate)+\"%)\")    "
   ]
  },
  {
   "cell_type": "markdown",
   "metadata": {},
   "source": [
    "One of these models is performing better.  We just cannot say which one because we do not know enough about the validation set.  Testing these models on reports that have been confirmed as denied because of their emissions table will give a more precise validation of the models."
   ]
  }
 ],
 "metadata": {
  "kernelspec": {
   "display_name": "Python 3.8.5 64-bit",
   "name": "python385jvsc74a57bd07c4094c0831f9a691166a4b5e2a40dcd9022262b31d5bac0550c28db25b92cde"
  },
  "language_info": {
   "codemirror_mode": {
    "name": "ipython",
    "version": 3
   },
   "file_extension": ".py",
   "mimetype": "text/x-python",
   "name": "python",
   "nbconvert_exporter": "python",
   "pygments_lexer": "ipython3",
   "version": "3.8.5"
  },
  "orig_nbformat": 2
 },
 "nbformat": 4,
 "nbformat_minor": 2
}